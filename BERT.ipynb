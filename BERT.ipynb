{
 "cells": [
  {
   "cell_type": "markdown",
   "metadata": {
    "colab_type": "text",
    "id": "5el_8SqFqVAT"
   },
   "source": [
    "<pre>\n",
    "In this notebook, You will do amazon review classification with BERT. \n",
    "It contains 5 parts as below.  Detailed instrctions are given in the each cell. please read every comment we have written. \n",
    "    1. Preprocessing \n",
    "    2. Creating a BERT model from the Tensorflow HUB.\n",
    "    3. Tokenization\n",
    "    4. getting the pretrained embedding Vector for a given review from the BERT.\n",
    "    5. Using the embedding data apply NN and classify the reviews. \n",
    "\n",
    "<font size=5>instructions:</font>\n",
    "\n",
    "    1. Don't change any Grader Functions. Don't manipulate any Grader functions. If you manipulate any, it will be considered as plagiarised. \n",
    "    \n",
    "    2. Please read the instructions on the code cells and markdown cells. We will explain what to write. \n",
    "    \n",
    "    3. please return outputs in the same format what we asked. Eg. Don't return List of we are asking for a numpy array.\n",
    "    \n",
    "    4. Please read the external links that we are given so that you will learn the concept behind the code that you are writing.\n",
    "    \n",
    "    5. We are giving instructions at each section if necessary, please follow them. \n",
    "\n",
    "<font size=5>Every Grader function has to return True. </font>\n",
    "</pre>"
   ]
  },
  {
   "cell_type": "code",
   "execution_count": 3,
   "metadata": {
    "colab": {
     "base_uri": "https://localhost:8080/",
     "height": 234
    },
    "colab_type": "code",
    "id": "F4vtqXm-dc3C",
    "outputId": "460f88f0-cdb4-4830-ba08-94433824e468"
   },
   "outputs": [
    {
     "name": "stdout",
     "output_type": "stream",
     "text": [
      "--2020-05-20 07:30:49--  https://storage.googleapis.com/kaggle-data-sets/18/2157/bundle/archive.zip?GoogleAccessId=web-data@kaggle-161607.iam.gserviceaccount.com&Expires=1590082532&Signature=gUCSmejmqBupWllh%2Fuf%2F4NJ3q0jbpEn34Xh9VUNPg9TZx0vrTrpfWfk8ne9mPM4iLHyHQzGVdk0CdellPOsrguMKaABve77ScgBhhIUlQX3iDVA6bmSHPsrT%2BISwI%2F3YiDQwx6tcMZ3EEJhNZxDnisC%2BYYuk5iW1um%2BoQSJ2qy2mG6fkohSCf0%2Bpo%2FEM38kg7XLdycB7pXFt2H46FmFL6EZ1UlajPzKmh26KYmz7Il5Rn1SB09xrDSgmW%2F8%2Bw%2Fq5a2CMYmA0GnTsq9%2BoK7syCMe3eXl2bWD4HHfD0MQ58y0lZDnBDQOsh%2BOdXMw3D50sI%2B06Chjucug64qKuorHutQ%3D%3D&response-content-disposition=attachment%3B+filename%3Damazon-fine-food-reviews.zip\n",
      "Resolving storage.googleapis.com (storage.googleapis.com)... 74.125.142.128, 2607:f8b0:400e:c07::80\n",
      "Connecting to storage.googleapis.com (storage.googleapis.com)|74.125.142.128|:443... connected.\n",
      "HTTP request sent, awaiting response... 200 OK\n",
      "Length: 253873708 (242M) [application/zip]\n",
      "Saving to: ‘amazon-fine-food-reviews.zip’\n",
      "\n",
      "\r",
      "          amazon-fi   0%[                    ]       0  --.-KB/s               \r",
      "         amazon-fin   3%[                    ]   8.01M  32.6MB/s               \r",
      "        amazon-fine  12%[=>                  ]  29.68M  66.6MB/s               \r",
      "       amazon-fine-  13%[=>                  ]  33.63M  48.6MB/s               \r",
      "      amazon-fine-f  29%[====>               ]  72.01M  60.8MB/s               \r",
      "     amazon-fine-fo  39%[======>             ]  96.01M  65.3MB/s               \r",
      "    amazon-fine-foo  46%[========>           ] 112.01M  63.9MB/s               \r",
      "   amazon-fine-food  59%[==========>         ] 142.91M  73.2MB/s               \r",
      "  amazon-fine-food-  66%[============>       ] 160.01M  60.3MB/s               \r",
      " amazon-fine-food-r  79%[==============>     ] 192.01M  63.2MB/s    eta 1s     \r",
      "amazon-fine-food-re  92%[=================>  ] 224.01M  69.0MB/s    eta 1s     \r",
      "mazon-fine-food-rev  95%[==================> ] 232.01M  66.9MB/s    eta 1s     \r",
      "amazon-fine-food-re 100%[===================>] 242.11M  69.2MB/s    in 3.5s    \n",
      "\n",
      "2020-05-20 07:30:53 (69.2 MB/s) - ‘amazon-fine-food-reviews.zip’ saved [253873708/253873708]\n",
      "\n"
     ]
    }
   ],
   "source": [
    "! wget --header=\"Host: storage.googleapis.com\" --header=\"User-Agent: Mozilla/5.0 (Windows NT 6.2; WOW64) AppleWebKit/537.36 (KHTML, like Gecko) Chrome/81.0.4044.138 Safari/537.36\" --header=\"Accept: text/html,application/xhtml+xml,application/xml;q=0.9,image/webp,image/apng,*/*;q=0.8,application/signed-exchange;v=b3;q=0.9\" --header=\"Accept-Language: en-US,en;q=0.9\" --header=\"Referer: https://www.kaggle.com/\" \"https://storage.googleapis.com/kaggle-data-sets/18/2157/bundle/archive.zip?GoogleAccessId=web-data@kaggle-161607.iam.gserviceaccount.com&Expires=1590082532&Signature=gUCSmejmqBupWllh%2Fuf%2F4NJ3q0jbpEn34Xh9VUNPg9TZx0vrTrpfWfk8ne9mPM4iLHyHQzGVdk0CdellPOsrguMKaABve77ScgBhhIUlQX3iDVA6bmSHPsrT%2BISwI%2F3YiDQwx6tcMZ3EEJhNZxDnisC%2BYYuk5iW1um%2BoQSJ2qy2mG6fkohSCf0%2Bpo%2FEM38kg7XLdycB7pXFt2H46FmFL6EZ1UlajPzKmh26KYmz7Il5Rn1SB09xrDSgmW%2F8%2Bw%2Fq5a2CMYmA0GnTsq9%2BoK7syCMe3eXl2bWD4HHfD0MQ58y0lZDnBDQOsh%2BOdXMw3D50sI%2B06Chjucug64qKuorHutQ%3D%3D&response-content-disposition=attachment%3B+filename%3Damazon-fine-food-reviews.zip\" -c -O 'amazon-fine-food-reviews.zip'"
   ]
  },
  {
   "cell_type": "code",
   "execution_count": 0,
   "metadata": {
    "colab": {},
    "colab_type": "code",
    "id": "wOtG4cf0qVAZ"
   },
   "outputs": [],
   "source": [
    "#all imports\n",
    "import numpy as np\n",
    "import pandas as pd\n",
    "import time\n",
    "import matplotlib.pyplot as plt\n",
    "import tensorflow as tf\n",
    "import tensorflow_hub as hub\n",
    "from tensorflow.keras.models import Model"
   ]
  },
  {
   "cell_type": "code",
   "execution_count": 5,
   "metadata": {
    "colab": {
     "base_uri": "https://localhost:8080/",
     "height": 35
    },
    "colab_type": "code",
    "id": "OcmiHdAJqVAi",
    "outputId": "04d74256-6b65-419a-9ebb-b31e532b28a1"
   },
   "outputs": [
    {
     "data": {
      "text/plain": [
       "'/device:GPU:0'"
      ]
     },
     "execution_count": 5,
     "metadata": {
      "tags": []
     },
     "output_type": "execute_result"
    }
   ],
   "source": [
    "tf.test.gpu_device_name()"
   ]
  },
  {
   "cell_type": "markdown",
   "metadata": {
    "colab_type": "text",
    "id": "LBsay58AqVAo"
   },
   "source": [
    "<font size=4>Grader function 1 </font>"
   ]
  },
  {
   "cell_type": "code",
   "execution_count": 6,
   "metadata": {
    "colab": {
     "base_uri": "https://localhost:8080/",
     "height": 35
    },
    "colab_type": "code",
    "id": "aTBvOKFeqVAq",
    "outputId": "87597a67-db99-4613-97fb-ff00466f589f"
   },
   "outputs": [
    {
     "data": {
      "text/plain": [
       "True"
      ]
     },
     "execution_count": 6,
     "metadata": {
      "tags": []
     },
     "output_type": "execute_result"
    }
   ],
   "source": [
    "def grader_tf_version():\n",
    "    assert((tf.__version__)>'2')\n",
    "    return True\n",
    "grader_tf_version()"
   ]
  },
  {
   "cell_type": "markdown",
   "metadata": {
    "colab_type": "text",
    "id": "ZTWRqbrBqVAu"
   },
   "source": [
    "<pre><font size=6>Part-1: Preprocessing</font></pre>"
   ]
  },
  {
   "cell_type": "code",
   "execution_count": 0,
   "metadata": {
    "colab": {},
    "colab_type": "code",
    "id": "FT7U4R7te7QO"
   },
   "outputs": [],
   "source": [
    "import zipfile\n",
    "with zipfile.ZipFile('/content/amazon-fine-food-reviews.zip','r') as f:\n",
    "  f.extractall()"
   ]
  },
  {
   "cell_type": "code",
   "execution_count": 8,
   "metadata": {
    "colab": {
     "base_uri": "https://localhost:8080/",
     "height": 341
    },
    "colab_type": "code",
    "id": "B3csZKDrqVAv",
    "outputId": "906280d9-e12f-4087-8dfe-745d9a4505b2"
   },
   "outputs": [
    {
     "data": {
      "text/html": [
       "<div>\n",
       "<style scoped>\n",
       "    .dataframe tbody tr th:only-of-type {\n",
       "        vertical-align: middle;\n",
       "    }\n",
       "\n",
       "    .dataframe tbody tr th {\n",
       "        vertical-align: top;\n",
       "    }\n",
       "\n",
       "    .dataframe thead th {\n",
       "        text-align: right;\n",
       "    }\n",
       "</style>\n",
       "<table border=\"1\" class=\"dataframe\">\n",
       "  <thead>\n",
       "    <tr style=\"text-align: right;\">\n",
       "      <th></th>\n",
       "      <th>Id</th>\n",
       "      <th>ProductId</th>\n",
       "      <th>UserId</th>\n",
       "      <th>ProfileName</th>\n",
       "      <th>HelpfulnessNumerator</th>\n",
       "      <th>HelpfulnessDenominator</th>\n",
       "      <th>Score</th>\n",
       "      <th>Time</th>\n",
       "      <th>Summary</th>\n",
       "      <th>Text</th>\n",
       "    </tr>\n",
       "  </thead>\n",
       "  <tbody>\n",
       "    <tr>\n",
       "      <th>0</th>\n",
       "      <td>1</td>\n",
       "      <td>B001E4KFG0</td>\n",
       "      <td>A3SGXH7AUHU8GW</td>\n",
       "      <td>delmartian</td>\n",
       "      <td>1</td>\n",
       "      <td>1</td>\n",
       "      <td>5</td>\n",
       "      <td>1303862400</td>\n",
       "      <td>Good Quality Dog Food</td>\n",
       "      <td>I have bought several of the Vitality canned d...</td>\n",
       "    </tr>\n",
       "    <tr>\n",
       "      <th>1</th>\n",
       "      <td>2</td>\n",
       "      <td>B00813GRG4</td>\n",
       "      <td>A1D87F6ZCVE5NK</td>\n",
       "      <td>dll pa</td>\n",
       "      <td>0</td>\n",
       "      <td>0</td>\n",
       "      <td>1</td>\n",
       "      <td>1346976000</td>\n",
       "      <td>Not as Advertised</td>\n",
       "      <td>Product arrived labeled as Jumbo Salted Peanut...</td>\n",
       "    </tr>\n",
       "  </tbody>\n",
       "</table>\n",
       "</div>"
      ],
      "text/plain": [
       "   Id  ...                                               Text\n",
       "0   1  ...  I have bought several of the Vitality canned d...\n",
       "1   2  ...  Product arrived labeled as Jumbo Salted Peanut...\n",
       "\n",
       "[2 rows x 10 columns]"
      ]
     },
     "execution_count": 8,
     "metadata": {
      "tags": []
     },
     "output_type": "execute_result"
    }
   ],
   "source": [
    "# Read the dataset - Amazon fine food reviews\n",
    "# D:\\ML\\Internal DL\\NLP\\amazon-fine-food-reviews\\Reviews.csv\n",
    "reviews = pd.read_csv(r'/content/Reviews.csv')\n",
    "# check the info of the dataset\n",
    "reviews.head(2)"
   ]
  },
  {
   "cell_type": "code",
   "execution_count": 9,
   "metadata": {
    "colab": {
     "base_uri": "https://localhost:8080/",
     "height": 71
    },
    "colab_type": "code",
    "id": "1xLBLbAGhfno",
    "outputId": "c457578b-e63c-4e3e-ac05-cb03f6cdbb55"
   },
   "outputs": [
    {
     "data": {
      "text/plain": [
       "Index(['Id', 'ProductId', 'UserId', 'ProfileName', 'HelpfulnessNumerator',\n",
       "       'HelpfulnessDenominator', 'Score', 'Time', 'Summary', 'Text'],\n",
       "      dtype='object')"
      ]
     },
     "execution_count": 9,
     "metadata": {
      "tags": []
     },
     "output_type": "execute_result"
    }
   ],
   "source": [
    "reviews.columns"
   ]
  },
  {
   "cell_type": "code",
   "execution_count": 10,
   "metadata": {
    "colab": {
     "base_uri": "https://localhost:8080/",
     "height": 206
    },
    "colab_type": "code",
    "id": "RjxwdXIqhnl0",
    "outputId": "b03558db-d0f1-40f8-d0f0-59cbc51289b2"
   },
   "outputs": [
    {
     "data": {
      "text/html": [
       "<div>\n",
       "<style scoped>\n",
       "    .dataframe tbody tr th:only-of-type {\n",
       "        vertical-align: middle;\n",
       "    }\n",
       "\n",
       "    .dataframe tbody tr th {\n",
       "        vertical-align: top;\n",
       "    }\n",
       "\n",
       "    .dataframe thead th {\n",
       "        text-align: right;\n",
       "    }\n",
       "</style>\n",
       "<table border=\"1\" class=\"dataframe\">\n",
       "  <thead>\n",
       "    <tr style=\"text-align: right;\">\n",
       "      <th></th>\n",
       "      <th>Text</th>\n",
       "      <th>Score</th>\n",
       "    </tr>\n",
       "  </thead>\n",
       "  <tbody>\n",
       "    <tr>\n",
       "      <th>0</th>\n",
       "      <td>I have bought several of the Vitality canned d...</td>\n",
       "      <td>5</td>\n",
       "    </tr>\n",
       "    <tr>\n",
       "      <th>1</th>\n",
       "      <td>Product arrived labeled as Jumbo Salted Peanut...</td>\n",
       "      <td>1</td>\n",
       "    </tr>\n",
       "    <tr>\n",
       "      <th>2</th>\n",
       "      <td>This is a confection that has been around a fe...</td>\n",
       "      <td>4</td>\n",
       "    </tr>\n",
       "    <tr>\n",
       "      <th>3</th>\n",
       "      <td>If you are looking for the secret ingredient i...</td>\n",
       "      <td>2</td>\n",
       "    </tr>\n",
       "    <tr>\n",
       "      <th>4</th>\n",
       "      <td>Great taffy at a great price.  There was a wid...</td>\n",
       "      <td>5</td>\n",
       "    </tr>\n",
       "  </tbody>\n",
       "</table>\n",
       "</div>"
      ],
      "text/plain": [
       "                                                Text  Score\n",
       "0  I have bought several of the Vitality canned d...      5\n",
       "1  Product arrived labeled as Jumbo Salted Peanut...      1\n",
       "2  This is a confection that has been around a fe...      4\n",
       "3  If you are looking for the secret ingredient i...      2\n",
       "4  Great taffy at a great price.  There was a wid...      5"
      ]
     },
     "execution_count": 10,
     "metadata": {
      "tags": []
     },
     "output_type": "execute_result"
    }
   ],
   "source": [
    "#get only 2 columns - Text, Score\n",
    "\n",
    "reviews = reviews[['Text', 'Score']]\n",
    "reviews.head()"
   ]
  },
  {
   "cell_type": "code",
   "execution_count": 11,
   "metadata": {
    "colab": {
     "base_uri": "https://localhost:8080/",
     "height": 71
    },
    "colab_type": "code",
    "id": "xokNn7qZqVAz",
    "outputId": "8d9c19ae-952b-4a1c-e183-794c8e2c63fc"
   },
   "outputs": [
    {
     "data": {
      "text/plain": [
       "Text     0.0\n",
       "Score    0.0\n",
       "dtype: float64"
      ]
     },
     "execution_count": 11,
     "metadata": {
      "tags": []
     },
     "output_type": "execute_result"
    }
   ],
   "source": [
    "#drop the NAN values\n",
    "reviews[reviews['Text'].isnull()].sum()"
   ]
  },
  {
   "cell_type": "code",
   "execution_count": 12,
   "metadata": {
    "colab": {
     "base_uri": "https://localhost:8080/",
     "height": 124
    },
    "colab_type": "code",
    "id": "5GZt7pVkqVA4",
    "outputId": "a48eb756-8f16-4e94-fc24-9ab18fd9218b"
   },
   "outputs": [
    {
     "data": {
      "text/plain": [
       "5    363122\n",
       "4     80655\n",
       "1     52268\n",
       "3     42640\n",
       "2     29769\n",
       "Name: Score, dtype: int64"
      ]
     },
     "execution_count": 12,
     "metadata": {
      "tags": []
     },
     "output_type": "execute_result"
    }
   ],
   "source": [
    "#if score> 3, set score = 1\n",
    "#if score<=2, set score = 0\n",
    "#if score == 3, remove the rows. \n",
    "\n",
    "reviews['Score'].value_counts()"
   ]
  },
  {
   "cell_type": "code",
   "execution_count": 13,
   "metadata": {
    "colab": {
     "base_uri": "https://localhost:8080/",
     "height": 35
    },
    "colab_type": "code",
    "id": "DdOKJvs5yUL6",
    "outputId": "bc2edcc4-a5f6-4ff5-ee4c-470786f409cf"
   },
   "outputs": [
    {
     "name": "stdout",
     "output_type": "stream",
     "text": [
      "(525814, 2)\n"
     ]
    }
   ],
   "source": [
    "reviews = reviews[~(reviews['Score'] == 3)]\n",
    "print(reviews.shape)"
   ]
  },
  {
   "cell_type": "code",
   "execution_count": 14,
   "metadata": {
    "colab": {
     "base_uri": "https://localhost:8080/",
     "height": 106
    },
    "colab_type": "code",
    "id": "FmYWYlGE0UBy",
    "outputId": "2a72e5df-d487-4117-e3e6-b7222c8a3eb6"
   },
   "outputs": [
    {
     "data": {
      "text/plain": [
       "5    363122\n",
       "4     80655\n",
       "1     52268\n",
       "2     29769\n",
       "Name: Score, dtype: int64"
      ]
     },
     "execution_count": 14,
     "metadata": {
      "tags": []
     },
     "output_type": "execute_result"
    }
   ],
   "source": [
    "reviews['Score'].value_counts()"
   ]
  },
  {
   "cell_type": "code",
   "execution_count": 15,
   "metadata": {
    "colab": {
     "base_uri": "https://localhost:8080/",
     "height": 71
    },
    "colab_type": "code",
    "id": "dOrYSQLp_rV6",
    "outputId": "99a2031e-1de0-40f1-abcf-61ca4725ee04"
   },
   "outputs": [
    {
     "data": {
      "text/plain": [
       "1    443777\n",
       "0     82037\n",
       "Name: Score, dtype: int64"
      ]
     },
     "execution_count": 15,
     "metadata": {
      "tags": []
     },
     "output_type": "execute_result"
    }
   ],
   "source": [
    "reviews['Score'].replace([1, 2], 0 , inplace= True)\n",
    "reviews['Score'].replace([5, 4], 1 , inplace= True)\n",
    "reviews['Score'].value_counts()"
   ]
  },
  {
   "cell_type": "markdown",
   "metadata": {
    "colab_type": "text",
    "id": "oVe8LlkrqVA6"
   },
   "source": [
    "<font size=4>Grader function 2"
   ]
  },
  {
   "cell_type": "code",
   "execution_count": 16,
   "metadata": {
    "colab": {
     "base_uri": "https://localhost:8080/",
     "height": 35
    },
    "colab_type": "code",
    "id": "7mDXSiJpqVA7",
    "outputId": "2e1d268e-2ed8-46ae-febf-6f548ca96087"
   },
   "outputs": [
    {
     "data": {
      "text/plain": [
       "True"
      ]
     },
     "execution_count": 16,
     "metadata": {
      "tags": []
     },
     "output_type": "execute_result"
    }
   ],
   "source": [
    "def grader_reviews():\n",
    "    temp_shape = (reviews.shape == (525814, 2)) and (reviews.Score.value_counts()[1]==443777)\n",
    "    assert(temp_shape == True)\n",
    "    return True\n",
    "grader_reviews()"
   ]
  },
  {
   "cell_type": "code",
   "execution_count": 0,
   "metadata": {
    "colab": {},
    "colab_type": "code",
    "id": "xYZ-UB9UqVA-"
   },
   "outputs": [],
   "source": [
    "def get_wordlen(x):\n",
    "    return len(x.split())\n",
    "\n",
    "reviews['len'] = reviews['Text'].apply(get_wordlen)\n",
    "reviews = reviews[reviews.len<50]\n",
    "reviews = reviews.sample(n=100000, random_state=30)"
   ]
  },
  {
   "cell_type": "code",
   "execution_count": 18,
   "metadata": {
    "colab": {
     "base_uri": "https://localhost:8080/",
     "height": 35
    },
    "colab_type": "code",
    "id": "DT68QG2MNOpS",
    "outputId": "94645c9f-3b59-4fcd-f72d-ba701c179ec3"
   },
   "outputs": [
    {
     "data": {
      "text/plain": [
       "(100000, 3)"
      ]
     },
     "execution_count": 18,
     "metadata": {
      "tags": []
     },
     "output_type": "execute_result"
    }
   ],
   "source": [
    "reviews.shape"
   ]
  },
  {
   "cell_type": "code",
   "execution_count": 19,
   "metadata": {
    "colab": {
     "base_uri": "https://localhost:8080/",
     "height": 55
    },
    "colab_type": "code",
    "id": "aFQ5rMbZNo0k",
    "outputId": "19440c54-0bd1-4cbf-fdf1-68e465916ae7"
   },
   "outputs": [
    {
     "data": {
      "text/plain": [
       "'royal canine is a great product Jake loves it he is now 3 months<br /><br /><a href=\"http://www.amazon.com/gp/product/B001VIY9KW\">Royal Canin Dry Dog Food, Medium Puppy 32 Formula, 30-Pound Bag</a> old and 35  pounds boxer puppy'"
      ]
     },
     "execution_count": 19,
     "metadata": {
      "tags": []
     },
     "output_type": "execute_result"
    }
   ],
   "source": [
    "reviews['Text'].iloc[14]"
   ]
  },
  {
   "cell_type": "code",
   "execution_count": 20,
   "metadata": {
    "colab": {
     "base_uri": "https://localhost:8080/",
     "height": 73
    },
    "colab_type": "code",
    "id": "CvldQriGqVBB",
    "outputId": "da270489-fcb9-47e0-abe4-3f65964bea49"
   },
   "outputs": [
    {
     "name": "stdout",
     "output_type": "stream",
     "text": [
      "Length of sentences: 100000\n",
      "After removing HTML Tags: royal canine is great product Jake loves it he is now monthsRoyal Canin Dry Dog Food Medium Puppy Formula Pound Bag old and pounds boxer puppy\n"
     ]
    }
   ],
   "source": [
    "#remove HTML from the Text column and save in the Text column only\n",
    "from bs4 import BeautifulSoup\n",
    "import re\n",
    "\n",
    "def clean_sentence(text):\n",
    "  # remove html tags\n",
    "  text = BeautifulSoup(text, 'lxml').get_text()\n",
    "  \n",
    "  # Remove punctuations and numbers\n",
    "  text = re.sub('[^a-zA-Z]', ' ', text)\n",
    "\n",
    "  # Single character removal\n",
    "  text = re.sub(r\"\\s+[a-zA-Z]\\s+\", ' ', text)\n",
    "\n",
    "  # Removing multiple spaces\n",
    "  text = re.sub(r'\\s+', ' ', text)\n",
    "\n",
    "  return text\n",
    "\n",
    "reviews['Text']= [clean_sentence(i) for i in reviews['Text']]\n",
    "print('Length of sentences:', len(reviews['Text']))\n",
    "print('After removing HTML Tags:', reviews['Text'].iloc[14])"
   ]
  },
  {
   "cell_type": "code",
   "execution_count": 21,
   "metadata": {
    "colab": {
     "base_uri": "https://localhost:8080/",
     "height": 206
    },
    "colab_type": "code",
    "id": "AhfN1s2mqVBD",
    "outputId": "40a5b328-93ec-4e24-8de4-11ca318dd2e5"
   },
   "outputs": [
    {
     "data": {
      "text/html": [
       "<div>\n",
       "<style scoped>\n",
       "    .dataframe tbody tr th:only-of-type {\n",
       "        vertical-align: middle;\n",
       "    }\n",
       "\n",
       "    .dataframe tbody tr th {\n",
       "        vertical-align: top;\n",
       "    }\n",
       "\n",
       "    .dataframe thead th {\n",
       "        text-align: right;\n",
       "    }\n",
       "</style>\n",
       "<table border=\"1\" class=\"dataframe\">\n",
       "  <thead>\n",
       "    <tr style=\"text-align: right;\">\n",
       "      <th></th>\n",
       "      <th>Text</th>\n",
       "      <th>Score</th>\n",
       "      <th>len</th>\n",
       "    </tr>\n",
       "  </thead>\n",
       "  <tbody>\n",
       "    <tr>\n",
       "      <th>64117</th>\n",
       "      <td>The tea was of great quality and it tasted lik...</td>\n",
       "      <td>1</td>\n",
       "      <td>30</td>\n",
       "    </tr>\n",
       "    <tr>\n",
       "      <th>418112</th>\n",
       "      <td>My cat loves this The pellets are nice and sma...</td>\n",
       "      <td>1</td>\n",
       "      <td>31</td>\n",
       "    </tr>\n",
       "    <tr>\n",
       "      <th>357829</th>\n",
       "      <td>Great product Does not completely get rid of h...</td>\n",
       "      <td>1</td>\n",
       "      <td>41</td>\n",
       "    </tr>\n",
       "    <tr>\n",
       "      <th>175872</th>\n",
       "      <td>This gum is my favorite would advise everyone ...</td>\n",
       "      <td>1</td>\n",
       "      <td>27</td>\n",
       "    </tr>\n",
       "    <tr>\n",
       "      <th>178716</th>\n",
       "      <td>I also found out about this product because of...</td>\n",
       "      <td>1</td>\n",
       "      <td>22</td>\n",
       "    </tr>\n",
       "  </tbody>\n",
       "</table>\n",
       "</div>"
      ],
      "text/plain": [
       "                                                     Text  Score  len\n",
       "64117   The tea was of great quality and it tasted lik...      1   30\n",
       "418112  My cat loves this The pellets are nice and sma...      1   31\n",
       "357829  Great product Does not completely get rid of h...      1   41\n",
       "175872  This gum is my favorite would advise everyone ...      1   27\n",
       "178716  I also found out about this product because of...      1   22"
      ]
     },
     "execution_count": 21,
     "metadata": {
      "tags": []
     },
     "output_type": "execute_result"
    }
   ],
   "source": [
    "#print head 5\n",
    "reviews.head()"
   ]
  },
  {
   "cell_type": "code",
   "execution_count": 0,
   "metadata": {
    "colab": {},
    "colab_type": "code",
    "id": "NsYDd3okqVBF"
   },
   "outputs": [],
   "source": [
    "#split the data into train and valudation data(20%) with Stratify sampling, random state 33, \n",
    "from sklearn.model_selection import train_test_split\n",
    "\n",
    "X= reviews['Text']\n",
    "y= reviews['Score']\n",
    "\n",
    "X_train, X_test, y_train, y_test = train_test_split(X , y, test_size=0.2, random_state= 33, stratify = y.values)\n"
   ]
  },
  {
   "cell_type": "code",
   "execution_count": 23,
   "metadata": {
    "colab": {
     "base_uri": "https://localhost:8080/",
     "height": 88
    },
    "colab_type": "code",
    "id": "sRN-U3ncRrq-",
    "outputId": "4cc7468a-a6e5-42d3-c84a-daf7e45c6188"
   },
   "outputs": [
    {
     "name": "stdout",
     "output_type": "stream",
     "text": [
      "Shape of X_train:  (80000,)\n",
      "Shape of X_test:  (20000,)\n",
      "Shape of y_train:  (80000,)\n",
      "Shape of y_test:  (20000,)\n"
     ]
    }
   ],
   "source": [
    "print('Shape of X_train: ',X_train.shape)\n",
    "print('Shape of X_test: ',X_test.shape)\n",
    "print('Shape of y_train: ',y_train.shape)\n",
    "print('Shape of y_test: ',y_test.shape)\n"
   ]
  },
  {
   "cell_type": "code",
   "execution_count": 24,
   "metadata": {
    "colab": {
     "base_uri": "https://localhost:8080/",
     "height": 460
    },
    "colab_type": "code",
    "id": "-Q6OAcrOqVBI",
    "outputId": "6650d6a4-ec03-427a-da22-975780a06879"
   },
   "outputs": [
    {
     "name": "stderr",
     "output_type": "stream",
     "text": [
      "/usr/local/lib/python3.6/dist-packages/statsmodels/tools/_testing.py:19: FutureWarning: pandas.util.testing is deprecated. Use the functions in the public API at pandas.testing instead.\n",
      "  import pandas.util.testing as tm\n"
     ]
    },
    {
     "data": {
      "image/png": "[encoded data removed]",
      "text/plain": [
       "<Figure size 864x432 with 2 Axes>"
      ]
     },
     "metadata": {
      "needs_background": "light",
      "tags": []
     },
     "output_type": "display_data"
    }
   ],
   "source": [
    "#plot bar graphs of y_train and y_test\n",
    "import seaborn as sns\n",
    "\n",
    "f, ax= plt.subplots(1, 2, figsize= (12, 6))\n",
    "\n",
    "sns.barplot(x= y_train, y= y_train.value_counts(), orient= 'v', ax= ax[0])\n",
    "ax[0].set_title('y_train')\n",
    "ax[1].bar([0, 1], y_test.value_counts(), color= 'green')\n",
    "ax[1].set_title('y_test')\n",
    "ax[1].plot\n",
    "\n",
    "plt.show()"
   ]
  },
  {
   "cell_type": "code",
   "execution_count": 0,
   "metadata": {
    "colab": {},
    "colab_type": "code",
    "id": "Up-z5boWqVBK"
   },
   "outputs": [],
   "source": [
    "#saving to disk. if we need, we can load preprocessed data directly. \n",
    "reviews.to_csv('preprocessed.csv', index=False)"
   ]
  },
  {
   "cell_type": "markdown",
   "metadata": {
    "colab_type": "text",
    "id": "bBtqNGN9qVBM"
   },
   "source": [
    "<pre><font size=6>Part-2: Creating BERT Model</font> \n",
    "\n",
    "If you want to know more about BERT, You can watch live sessions on Transformers and BERt. we will strongly recommend you to read <a href=\"https://jalammar.github.io/illustrated-transformer/\">Transformers</a>, <a href=\"https://arxiv.org/abs/1810.04805\">BERT Paper</a> and, <a href=\"https://jalammar.github.io/a-visual-guide-to-using-bert-for-the-first-time/\">This blog</a>.\n",
    "\n",
    "\n",
    "For this assignment, we are using <a href=\"https://tfhub.dev/tensorflow/bert_en_uncased_L-12_H-768_A-12/1\">BERT uncased Base model</a>. It uses L=12 hidden layers (i.e., Transformer blocks), a hidden size of H=768, and A=12 attention heads. </pre>"
   ]
  },
  {
   "cell_type": "code",
   "execution_count": 0,
   "metadata": {
    "colab": {},
    "colab_type": "code",
    "id": "i8xd2HejqVBN"
   },
   "outputs": [],
   "source": [
    "## Loading the Pretrained Model from tensorflow HUB\n",
    "tf.keras.backend.clear_session()\n",
    "\n",
    "# maximum length of a seq in the data we have, for now i am making it as 55. You can change this\n",
    "max_seq_length = 55\n",
    "\n",
    "# BERT takes 3 inputs\n",
    "\n",
    "# this is input words. Sequence of words represented as integers\n",
    "input_word_ids = tf.keras.layers.Input(shape=(max_seq_length,), dtype=tf.int32, name=\"input_word_ids\")\n",
    "\n",
    "# mask vector if you are padding anything\n",
    "input_mask = tf.keras.layers.Input(shape=(max_seq_length,), dtype=tf.int32, name=\"input_mask\")\n",
    "\n",
    "# segment vectors. If you are giving only one sentence for the classification, total seg vector is 0. \n",
    "# If you are giving two sentenced with [sep] token separated, first seq segment vectors are zeros and \n",
    "# second seq segment vector are 1's\n",
    "segment_ids = tf.keras.layers.Input(shape=(max_seq_length,), dtype=tf.int32, name=\"segment_ids\")\n",
    "\n",
    "# bert layer \n",
    "bert_layer = hub.KerasLayer(\"https://tfhub.dev/tensorflow/bert_en_uncased_L-12_H-768_A-12/2\", trainable=False)\n",
    "pooled_output, sequence_output = bert_layer([input_word_ids, input_mask, segment_ids])\n",
    "\n",
    "# Bert model\n",
    "# We are using only pooled output not sequence out. \n",
    "# If you want to know about those, please read https://www.kaggle.com/questions-and-answers/86510\n",
    "bert_model = Model(inputs=[input_word_ids, input_mask, segment_ids], outputs=pooled_output)\n"
   ]
  },
  {
   "cell_type": "code",
   "execution_count": 27,
   "metadata": {
    "colab": {
     "base_uri": "https://localhost:8080/",
     "height": 339
    },
    "colab_type": "code",
    "id": "lQJsjg6fqVBQ",
    "outputId": "a0e331e6-7edc-416f-f059-3db2aa42ae86"
   },
   "outputs": [
    {
     "name": "stdout",
     "output_type": "stream",
     "text": [
      "Model: \"model\"\n",
      "__________________________________________________________________________________________________\n",
      "Layer (type)                    Output Shape         Param #     Connected to                     \n",
      "==================================================================================================\n",
      "input_word_ids (InputLayer)     [(None, 55)]         0                                            \n",
      "__________________________________________________________________________________________________\n",
      "input_mask (InputLayer)         [(None, 55)]         0                                            \n",
      "__________________________________________________________________________________________________\n",
      "segment_ids (InputLayer)        [(None, 55)]         0                                            \n",
      "__________________________________________________________________________________________________\n",
      "keras_layer (KerasLayer)        [(None, 768), (None, 109482241   input_word_ids[0][0]             \n",
      "                                                                 input_mask[0][0]                 \n",
      "                                                                 segment_ids[0][0]                \n",
      "==================================================================================================\n",
      "Total params: 109,482,241\n",
      "Trainable params: 0\n",
      "Non-trainable params: 109,482,241\n",
      "__________________________________________________________________________________________________\n"
     ]
    }
   ],
   "source": [
    "bert_model.summary()"
   ]
  },
  {
   "cell_type": "code",
   "execution_count": 28,
   "metadata": {
    "colab": {
     "base_uri": "https://localhost:8080/",
     "height": 35
    },
    "colab_type": "code",
    "id": "w3z0OMA5qVBS",
    "outputId": "500e61dd-bbd9-4895-d1d6-5164e963f2ef"
   },
   "outputs": [
    {
     "data": {
      "text/plain": [
       "<tf.Tensor 'keras_layer/Identity:0' shape=(None, 768) dtype=float32>"
      ]
     },
     "execution_count": 28,
     "metadata": {
      "tags": []
     },
     "output_type": "execute_result"
    }
   ],
   "source": [
    "bert_model.output"
   ]
  },
  {
   "cell_type": "markdown",
   "metadata": {
    "colab_type": "text",
    "id": "Ewv4hFCsqVBU"
   },
   "source": [
    "<pre><font size=6>Part-3: Tokenization</font></pre>"
   ]
  },
  {
   "cell_type": "code",
   "execution_count": 0,
   "metadata": {
    "colab": {},
    "colab_type": "code",
    "id": "tX3VEFjiqVBU"
   },
   "outputs": [],
   "source": [
    "#getting Vocab file\n",
    "vocab_file = bert_layer.resolved_object.vocab_file.asset_path.numpy()\n",
    "do_lower_case = bert_layer.resolved_object.do_lower_case.numpy()"
   ]
  },
  {
   "cell_type": "code",
   "execution_count": 30,
   "metadata": {
    "colab": {
     "base_uri": "https://localhost:8080/",
     "height": 126
    },
    "colab_type": "code",
    "id": "HaRiaR07xE5q",
    "outputId": "89f541b1-e3e8-4ad6-cc83-78e3d1771165"
   },
   "outputs": [
    {
     "name": "stdout",
     "output_type": "stream",
     "text": [
      "Collecting sentencepiece\n",
      "\u001b[?25l  Downloading https://files.pythonhosted.org/packages/3b/88/49e772d686088e1278766ad68a463513642a2a877487decbd691dec02955/sentencepiece-0.1.90-cp36-cp36m-manylinux1_x86_64.whl (1.1MB)\n",
      "\r",
      "\u001b[K     |▎                               | 10kB 25.7MB/s eta 0:00:01\r",
      "\u001b[K     |▋                               | 20kB 2.9MB/s eta 0:00:01\r",
      "\u001b[K     |█                               | 30kB 4.2MB/s eta 0:00:01\r",
      "\u001b[K     |█▎                              | 40kB 5.4MB/s eta 0:00:01\r",
      "\u001b[K     |█▌                              | 51kB 3.6MB/s eta 0:00:01\r",
      "\u001b[K     |█▉                              | 61kB 4.3MB/s eta 0:00:01\r",
      "\u001b[K     |██▏                             | 71kB 4.9MB/s eta 0:00:01\r",
      "\u001b[K     |██▌                             | 81kB 5.5MB/s eta 0:00:01\r",
      "\u001b[K     |██▊                             | 92kB 4.3MB/s eta 0:00:01\r",
      "\u001b[K     |███                             | 102kB 4.8MB/s eta 0:00:01\r",
      "\u001b[K     |███▍                            | 112kB 4.8MB/s eta 0:00:01\r",
      "\u001b[K     |███▊                            | 122kB 4.8MB/s eta 0:00:01\r",
      "\u001b[K     |████                            | 133kB 4.8MB/s eta 0:00:01\r",
      "\u001b[K     |████▎                           | 143kB 4.8MB/s eta 0:00:01\r",
      "\u001b[K     |████▋                           | 153kB 4.8MB/s eta 0:00:01\r",
      "\u001b[K     |█████                           | 163kB 4.8MB/s eta 0:00:01\r",
      "\u001b[K     |█████▏                          | 174kB 4.8MB/s eta 0:00:01\r",
      "\u001b[K     |█████▌                          | 184kB 4.8MB/s eta 0:00:01\r",
      "\u001b[K     |█████▉                          | 194kB 4.8MB/s eta 0:00:01\r",
      "\u001b[K     |██████▏                         | 204kB 4.8MB/s eta 0:00:01\r",
      "\u001b[K     |██████▍                         | 215kB 4.8MB/s eta 0:00:01\r",
      "\u001b[K     |██████▊                         | 225kB 4.8MB/s eta 0:00:01\r",
      "\u001b[K     |███████                         | 235kB 4.8MB/s eta 0:00:01\r",
      "\u001b[K     |███████▍                        | 245kB 4.8MB/s eta 0:00:01\r",
      "\u001b[K     |███████▋                        | 256kB 4.8MB/s eta 0:00:01\r",
      "\u001b[K     |████████                        | 266kB 4.8MB/s eta 0:00:01\r",
      "\u001b[K     |████████▎                       | 276kB 4.8MB/s eta 0:00:01\r",
      "\u001b[K     |████████▋                       | 286kB 4.8MB/s eta 0:00:01\r",
      "\u001b[K     |████████▉                       | 296kB 4.8MB/s eta 0:00:01\r",
      "\u001b[K     |█████████▏                      | 307kB 4.8MB/s eta 0:00:01\r",
      "\u001b[K     |█████████▌                      | 317kB 4.8MB/s eta 0:00:01\r",
      "\u001b[K     |█████████▉                      | 327kB 4.8MB/s eta 0:00:01\r",
      "\u001b[K     |██████████                      | 337kB 4.8MB/s eta 0:00:01\r",
      "\u001b[K     |██████████▍                     | 348kB 4.8MB/s eta 0:00:01\r",
      "\u001b[K     |██████████▊                     | 358kB 4.8MB/s eta 0:00:01\r",
      "\u001b[K     |███████████                     | 368kB 4.8MB/s eta 0:00:01\r",
      "\u001b[K     |███████████▎                    | 378kB 4.8MB/s eta 0:00:01\r",
      "\u001b[K     |███████████▋                    | 389kB 4.8MB/s eta 0:00:01\r",
      "\u001b[K     |████████████                    | 399kB 4.8MB/s eta 0:00:01\r",
      "\u001b[K     |████████████▎                   | 409kB 4.8MB/s eta 0:00:01\r",
      "\u001b[K     |████████████▌                   | 419kB 4.8MB/s eta 0:00:01\r",
      "\u001b[K     |████████████▉                   | 430kB 4.8MB/s eta 0:00:01\r",
      "\u001b[K     |█████████████▏                  | 440kB 4.8MB/s eta 0:00:01\r",
      "\u001b[K     |█████████████▌                  | 450kB 4.8MB/s eta 0:00:01\r",
      "\u001b[K     |█████████████▊                  | 460kB 4.8MB/s eta 0:00:01\r",
      "\u001b[K     |██████████████                  | 471kB 4.8MB/s eta 0:00:01\r",
      "\u001b[K     |██████████████▍                 | 481kB 4.8MB/s eta 0:00:01\r",
      "\u001b[K     |██████████████▊                 | 491kB 4.8MB/s eta 0:00:01\r",
      "\u001b[K     |███████████████                 | 501kB 4.8MB/s eta 0:00:01\r",
      "\u001b[K     |███████████████▎                | 512kB 4.8MB/s eta 0:00:01\r",
      "\u001b[K     |███████████████▋                | 522kB 4.8MB/s eta 0:00:01\r",
      "\u001b[K     |████████████████                | 532kB 4.8MB/s eta 0:00:01\r",
      "\u001b[K     |████████████████▎               | 542kB 4.8MB/s eta 0:00:01\r",
      "\u001b[K     |████████████████▌               | 552kB 4.8MB/s eta 0:00:01\r",
      "\u001b[K     |████████████████▉               | 563kB 4.8MB/s eta 0:00:01\r",
      "\u001b[K     |█████████████████▏              | 573kB 4.8MB/s eta 0:00:01\r",
      "\u001b[K     |█████████████████▌              | 583kB 4.8MB/s eta 0:00:01\r",
      "\u001b[K     |█████████████████▊              | 593kB 4.8MB/s eta 0:00:01\r",
      "\u001b[K     |██████████████████              | 604kB 4.8MB/s eta 0:00:01\r",
      "\u001b[K     |██████████████████▍             | 614kB 4.8MB/s eta 0:00:01\r",
      "\u001b[K     |██████████████████▊             | 624kB 4.8MB/s eta 0:00:01\r",
      "\u001b[K     |███████████████████             | 634kB 4.8MB/s eta 0:00:01\r",
      "\u001b[K     |███████████████████▎            | 645kB 4.8MB/s eta 0:00:01\r",
      "\u001b[K     |███████████████████▋            | 655kB 4.8MB/s eta 0:00:01\r",
      "\u001b[K     |████████████████████            | 665kB 4.8MB/s eta 0:00:01\r",
      "\u001b[K     |████████████████████▏           | 675kB 4.8MB/s eta 0:00:01\r",
      "\u001b[K     |████████████████████▌           | 686kB 4.8MB/s eta 0:00:01\r",
      "\u001b[K     |████████████████████▉           | 696kB 4.8MB/s eta 0:00:01\r",
      "\u001b[K     |█████████████████████▏          | 706kB 4.8MB/s eta 0:00:01\r",
      "\u001b[K     |█████████████████████▍          | 716kB 4.8MB/s eta 0:00:01\r",
      "\u001b[K     |█████████████████████▊          | 727kB 4.8MB/s eta 0:00:01\r",
      "\u001b[K     |██████████████████████          | 737kB 4.8MB/s eta 0:00:01\r",
      "\u001b[K     |██████████████████████▍         | 747kB 4.8MB/s eta 0:00:01\r",
      "\u001b[K     |██████████████████████▋         | 757kB 4.8MB/s eta 0:00:01\r",
      "\u001b[K     |███████████████████████         | 768kB 4.8MB/s eta 0:00:01\r",
      "\u001b[K     |███████████████████████▎        | 778kB 4.8MB/s eta 0:00:01\r",
      "\u001b[K     |███████████████████████▋        | 788kB 4.8MB/s eta 0:00:01\r",
      "\u001b[K     |███████████████████████▉        | 798kB 4.8MB/s eta 0:00:01\r",
      "\u001b[K     |████████████████████████▏       | 808kB 4.8MB/s eta 0:00:01\r",
      "\u001b[K     |████████████████████████▌       | 819kB 4.8MB/s eta 0:00:01\r",
      "\u001b[K     |████████████████████████▉       | 829kB 4.8MB/s eta 0:00:01\r",
      "\u001b[K     |█████████████████████████       | 839kB 4.8MB/s eta 0:00:01\r",
      "\u001b[K     |█████████████████████████▍      | 849kB 4.8MB/s eta 0:00:01\r",
      "\u001b[K     |█████████████████████████▊      | 860kB 4.8MB/s eta 0:00:01\r",
      "\u001b[K     |██████████████████████████      | 870kB 4.8MB/s eta 0:00:01\r",
      "\u001b[K     |██████████████████████████▎     | 880kB 4.8MB/s eta 0:00:01\r",
      "\u001b[K     |██████████████████████████▋     | 890kB 4.8MB/s eta 0:00:01\r",
      "\u001b[K     |███████████████████████████     | 901kB 4.8MB/s eta 0:00:01\r",
      "\u001b[K     |███████████████████████████▎    | 911kB 4.8MB/s eta 0:00:01\r",
      "\u001b[K     |███████████████████████████▌    | 921kB 4.8MB/s eta 0:00:01\r",
      "\u001b[K     |███████████████████████████▉    | 931kB 4.8MB/s eta 0:00:01\r",
      "\u001b[K     |████████████████████████████▏   | 942kB 4.8MB/s eta 0:00:01\r",
      "\u001b[K     |████████████████████████████▌   | 952kB 4.8MB/s eta 0:00:01\r",
      "\u001b[K     |████████████████████████████▉   | 962kB 4.8MB/s eta 0:00:01\r",
      "\u001b[K     |█████████████████████████████   | 972kB 4.8MB/s eta 0:00:01\r",
      "\u001b[K     |█████████████████████████████▍  | 983kB 4.8MB/s eta 0:00:01\r",
      "\u001b[K     |█████████████████████████████▊  | 993kB 4.8MB/s eta 0:00:01\r",
      "\u001b[K     |██████████████████████████████  | 1.0MB 4.8MB/s eta 0:00:01\r",
      "\u001b[K     |██████████████████████████████▎ | 1.0MB 4.8MB/s eta 0:00:01\r",
      "\u001b[K     |██████████████████████████████▋ | 1.0MB 4.8MB/s eta 0:00:01\r",
      "\u001b[K     |███████████████████████████████ | 1.0MB 4.8MB/s eta 0:00:01\r",
      "\u001b[K     |███████████████████████████████▎| 1.0MB 4.8MB/s eta 0:00:01\r",
      "\u001b[K     |███████████████████████████████▌| 1.1MB 4.8MB/s eta 0:00:01\r",
      "\u001b[K     |███████████████████████████████▉| 1.1MB 4.8MB/s eta 0:00:01\r",
      "\u001b[K     |████████████████████████████████| 1.1MB 4.8MB/s \n",
      "\u001b[?25hInstalling collected packages: sentencepiece\n",
      "Successfully installed sentencepiece-0.1.90\n"
     ]
    }
   ],
   "source": [
    "! pip3 install sentencepiece"
   ]
  },
  {
   "cell_type": "code",
   "execution_count": 31,
   "metadata": {
    "colab": {
     "base_uri": "https://localhost:8080/",
     "height": 53
    },
    "colab_type": "code",
    "id": "zIHhGYQeOZSu",
    "outputId": "5497ed15-2a82-4ced-b680-3dda86898e5f"
   },
   "outputs": [
    {
     "name": "stdout",
     "output_type": "stream",
     "text": [
      "amazon-fine-food-reviews.zip  hashes.txt\tReviews.csv  test.csv\n",
      "database.sqlite\t\t      preprocessed.csv\tsample_data  tokenization.py\n"
     ]
    }
   ],
   "source": [
    "import os\n",
    "\n",
    "! ls"
   ]
  },
  {
   "cell_type": "code",
   "execution_count": 0,
   "metadata": {
    "colab": {},
    "colab_type": "code",
    "id": "Y_iPwa99qVBW"
   },
   "outputs": [],
   "source": [
    "#import tokenization - We have given tokenization.py file\n",
    "# ! python /content/tokenization.py\n",
    "\n",
    "import tokenization"
   ]
  },
  {
   "cell_type": "code",
   "execution_count": 0,
   "metadata": {
    "colab": {},
    "colab_type": "code",
    "id": "TJW7BvhPRAU2"
   },
   "outputs": [],
   "source": [
    "tokenizer = tokenization.FullTokenizer(vocab_file, do_lower_case)"
   ]
  },
  {
   "cell_type": "code",
   "execution_count": 0,
   "metadata": {
    "colab": {},
    "colab_type": "code",
    "id": "guJMLJ8bqVBY"
   },
   "outputs": [],
   "source": [
    "# Create tokenizer \" Instantiate FullTokenizer\" \n",
    "# name must be \"tokenizer\"\n",
    "# the FullTokenizer takes two parameters 1. vocab_file and 2. do_lower_case \n",
    "# we have created these in the above cell ex: FullTokenizer(vocab_file, do_lower_case )\n",
    "# please check the \"tokenization.py\" file the complete implementation"
   ]
  },
  {
   "cell_type": "markdown",
   "metadata": {
    "colab_type": "text",
    "id": "kv1-t4OjqVBj"
   },
   "source": [
    "#### Example\n",
    "<img src='https://i.imgur.com/5AhhmgU.png'>"
   ]
  },
  {
   "cell_type": "markdown",
   "metadata": {
    "colab_type": "text",
    "id": "KKkGLhR-qVBd"
   },
   "source": [
    "<font size=4>Grader function 3 </font>"
   ]
  },
  {
   "cell_type": "code",
   "execution_count": 35,
   "metadata": {
    "colab": {
     "base_uri": "https://localhost:8080/",
     "height": 35
    },
    "colab_type": "code",
    "id": "2CPu850xqVBe",
    "outputId": "2a62445a-b829-44b5-c88d-404e477c6e7c"
   },
   "outputs": [
    {
     "data": {
      "text/plain": [
       "True"
      ]
     },
     "execution_count": 35,
     "metadata": {
      "tags": []
     },
     "output_type": "execute_result"
    }
   ],
   "source": [
    "#it has to give no error \n",
    "def grader_tokenize(tokenizer):\n",
    "    out = False\n",
    "    try:\n",
    "        out=('[CLS]' in tokenizer.vocab) and ('[SEP]' in tokenizer.vocab)\n",
    "    except:\n",
    "        out = False\n",
    "    assert(out==True)\n",
    "    return out\n",
    "grader_tokenize(tokenizer)"
   ]
  },
  {
   "cell_type": "code",
   "execution_count": 36,
   "metadata": {
    "colab": {
     "base_uri": "https://localhost:8080/",
     "height": 53
    },
    "colab_type": "code",
    "id": "PuQBQoXZ5ODo",
    "outputId": "34ddf230-7bb5-4b43-f943-1c7eadba31eb"
   },
   "outputs": [
    {
     "name": "stdout",
     "output_type": "stream",
     "text": [
      "Minimum length of review: 4\n",
      "Maximum length of review: 49\n"
     ]
    }
   ],
   "source": [
    "print('Minimum length of review:' ,reviews['len'].min())\n",
    "print('Maximum length of review:' ,reviews['len'].max())"
   ]
  },
  {
   "cell_type": "code",
   "execution_count": 37,
   "metadata": {
    "colab": {
     "base_uri": "https://localhost:8080/",
     "height": 53
    },
    "colab_type": "code",
    "id": "lhn5VbTwXWbS",
    "outputId": "e7eaa175-12cc-4461-e97e-86f2408361b5"
   },
   "outputs": [
    {
     "name": "stdout",
     "output_type": "stream",
     "text": [
      "Maximum lenth of tokens in train: 90\n",
      "Minimum lenth of tokens in train: 3\n"
     ]
    }
   ],
   "source": [
    "# Create train and test tokens (X_train_tokens, X_test_tokens) from (X_train, X_test) using Tokenizer and \n",
    "\n",
    "X_tr_tokens= [tokenizer.tokenize(i) for i in X_train.values]\n",
    "X_ts_tokens= [tokenizer.tokenize(i) for i in X_test.values]\n",
    "\n",
    "print('Maximum lenth of tokens in train:',max([len(i) for i in X_tr_tokens]))\n",
    "print('Minimum lenth of tokens in train:',min([len(i) for i in X_ts_tokens]))\n"
   ]
  },
  {
   "cell_type": "code",
   "execution_count": 38,
   "metadata": {
    "colab": {
     "base_uri": "https://localhost:8080/",
     "height": 91
    },
    "colab_type": "code",
    "id": "LaKoaf5-Xa5a",
    "outputId": "12a0e50a-f392-4cec-82d3-456e98e2bd7c"
   },
   "outputs": [
    {
     "name": "stdout",
     "output_type": "stream",
     "text": [
      "Maximum lenth of tokens after max_seq_len: 53\n",
      "Minimum lenth of tokens after max_seq_len: 3\n",
      "Sample output ['[CLS]', 'i', 'had', 'never', 'tried', 'this', 'brand', 'before', 'so', 'was', 'worried', 'about', 'the', 'quality', 'it', 'tasted', 'great', 'very', 'nice', 'smooth', 'rich', 'full', 'flavor', 'its', 'my', 'new', 'favor', '##et', '[SEP]', '[PAD]', '[PAD]', '[PAD]', '[PAD]', '[PAD]', '[PAD]', '[PAD]', '[PAD]', '[PAD]', '[PAD]', '[PAD]', '[PAD]', '[PAD]', '[PAD]', '[PAD]', '[PAD]', '[PAD]', '[PAD]', '[PAD]', '[PAD]', '[PAD]', '[PAD]', '[PAD]', '[PAD]', '[PAD]', '[PAD]']\n"
     ]
    }
   ],
   "source": [
    "# maximum number of tokens is 55 (We already given this to BERT layer above) so shape is (None, 55)\n",
    "\n",
    "a= [i[0:(max_seq_length - 2)] for i in X_tr_tokens]\n",
    "b= [i[0:(max_seq_length - 2)] for i in X_ts_tokens]\n",
    "\n",
    "print('Maximum lenth of tokens after max_seq_len:',max([len(i) for i in a]))\n",
    "print('Minimum lenth of tokens after max_seq_len:',min([len(i) for i in b]))\n",
    "\n",
    "# add '[CLS]' at start of the Tokens and '[SEP]' at the end of the tokens. \n",
    "\n",
    "def tokens(data):\n",
    "\n",
    "  # can use 0 also\n",
    "  data.insert(-len(data) , '[CLS]')\n",
    "  \n",
    "  # cannot use -1 https://stackoverflow.com/a/30212470/10219869                                    \n",
    "  data.insert(len(data) , '[SEP]') \n",
    "    \n",
    "  # insert PAD tokens after SEP tokens until end of max_seq_len\n",
    "  if len(data) < (max_seq_length):\n",
    "      data.extend(('[PAD] '*((max_seq_length) - len(data))).split())\n",
    "                        \n",
    "  return data\n",
    "\n",
    "X_train_token= [tokens(i) for i in a]\n",
    "X_test_token= [tokens(i) for i in b]\n",
    "  \n",
    "print('Sample output', X_train_token[0] )"
   ]
  },
  {
   "cell_type": "code",
   "execution_count": 39,
   "metadata": {
    "colab": {
     "base_uri": "https://localhost:8080/",
     "height": 55
    },
    "colab_type": "code",
    "id": "9crhPylQqVBg",
    "outputId": "5bb993fc-316e-4787-98e2-63a6f44d8545"
   },
   "outputs": [
    {
     "name": "stdout",
     "output_type": "stream",
     "text": [
      "Sample positional encodings: [101, 1045, 2018, 2196, 2699, 2023, 4435, 2077, 2061, 2001, 5191, 2055, 1996, 3737, 2009, 12595, 2307, 2200, 3835, 5744, 4138, 2440, 14894, 2049, 2026, 2047, 5684, 3388, 102, 0, 0, 0, 0, 0, 0, 0, 0, 0, 0, 0, 0, 0, 0, 0, 0, 0, 0, 0, 0, 0, 0, 0, 0, 0, 0]\n"
     ]
    }
   ],
   "source": [
    "# positional encoding\n",
    "\n",
    "X_train_pos_enc = [tokenizer.convert_tokens_to_ids(i) for i in X_train_token]\n",
    "X_test_pos_enc = [tokenizer.convert_tokens_to_ids(i) for i in X_test_token]\n",
    "\n",
    "print('Sample positional encodings:', X_train_pos_enc[0])"
   ]
  },
  {
   "cell_type": "code",
   "execution_count": 40,
   "metadata": {
    "colab": {
     "base_uri": "https://localhost:8080/",
     "height": 53
    },
    "colab_type": "code",
    "id": "Z3pED7-xDNBK",
    "outputId": "ff7f8ad5-db2f-43c7-d03b-41bc0f366ae0"
   },
   "outputs": [
    {
     "name": "stdout",
     "output_type": "stream",
     "text": [
      "55\n",
      "55\n"
     ]
    }
   ],
   "source": [
    "# crosschecking the length of each datapoint \n",
    "a= []\n",
    "for i in X_train_pos_enc:\n",
    "  a.append(len(i))\n",
    "\n",
    "print(min(a))\n",
    "print(max(a))"
   ]
  },
  {
   "cell_type": "code",
   "execution_count": 41,
   "metadata": {
    "colab": {
     "base_uri": "https://localhost:8080/",
     "height": 53
    },
    "colab_type": "code",
    "id": "hcONE7b17avE",
    "outputId": "94731cf3-18d5-47b0-d6f4-15ec6941f1da"
   },
   "outputs": [
    {
     "name": "stdout",
     "output_type": "stream",
     "text": [
      "(80000, 55) : Shape of X_train_tokens\n",
      "(20000, 55) : Shape of X_test_tokens\n"
     ]
    }
   ],
   "source": [
    "X_train_tokens = np.array(X_train_pos_enc)\n",
    "X_test_tokens = np.array(X_test_pos_enc)\n",
    "\n",
    "print(X_train_tokens.shape, ': Shape of X_train_tokens')\n",
    "print(X_test_tokens.shape, ': Shape of X_test_tokens')"
   ]
  },
  {
   "cell_type": "code",
   "execution_count": 42,
   "metadata": {
    "colab": {
     "base_uri": "https://localhost:8080/",
     "height": 55
    },
    "colab_type": "code",
    "id": "WDts-xmQmRx4",
    "outputId": "8bfe15ef-869a-4b23-d584-857ef751a863"
   },
   "outputs": [
    {
     "name": "stdout",
     "output_type": "stream",
     "text": [
      "Sample Masks: [1, 1, 1, 1, 1, 1, 1, 1, 1, 1, 1, 1, 1, 1, 1, 1, 1, 1, 1, 1, 1, 1, 1, 1, 1, 1, 1, 1, 1, 0, 0, 0, 0, 0, 0, 0, 0, 0, 0, 0, 0, 0, 0, 0, 0, 0, 0, 0, 0, 0, 0, 0, 0, 0, 0]\n"
     ]
    }
   ],
   "source": [
    "# if it is less than 55, add '[PAD]' token else truncate the tokens length.(similar to padding)\n",
    "# Based on padding, create the mask for Train and Test ( 1 for real token, 0 for '[PAD]'), \n",
    "# it will also same shape as input tokens (None, 55) save those in X_train_mask, X_test_mask\n",
    "\n",
    "def masking(data):\n",
    "  \n",
    "  mask=[]\n",
    "  for j in data:\n",
    "    if j == 0:\n",
    "      mask.append(0)\n",
    "    else:\n",
    "      mask.append(1)\n",
    "  return mask\n",
    "  \n",
    "\n",
    "X_train_mask = [masking(i) for i in X_train_tokens]\n",
    "X_test_mask = [masking(i) for i in X_test_tokens]\n",
    "\n",
    "print('Sample Masks:', X_train_mask[0])"
   ]
  },
  {
   "cell_type": "code",
   "execution_count": 43,
   "metadata": {
    "colab": {
     "base_uri": "https://localhost:8080/",
     "height": 53
    },
    "colab_type": "code",
    "id": "6g_E64ckLmr6",
    "outputId": "a10cc1c9-84c1-43c2-d9a9-e8d59e71865c"
   },
   "outputs": [
    {
     "name": "stdout",
     "output_type": "stream",
     "text": [
      "(80000, 55) : Shape of X_train_masks\n",
      "(20000, 55) : Shape of X_test_masks\n"
     ]
    }
   ],
   "source": [
    "X_train_masks = np.array(X_train_mask)\n",
    "X_test_masks = np.array(X_test_mask)\n",
    "\n",
    "print(X_train_masks.shape, ': Shape of X_train_masks')\n",
    "print(X_test_masks.shape, ': Shape of X_test_masks')\n"
   ]
  },
  {
   "cell_type": "code",
   "execution_count": 44,
   "metadata": {
    "colab": {
     "base_uri": "https://localhost:8080/",
     "height": 55
    },
    "colab_type": "code",
    "id": "E-tqjhyDALz-",
    "outputId": "8a6d8e92-2ca1-4177-c94d-d11078e145c5"
   },
   "outputs": [
    {
     "name": "stdout",
     "output_type": "stream",
     "text": [
      "Sample positional encodings: [0, 0, 0, 0, 0, 0, 0, 0, 0, 0, 0, 0, 0, 0, 0, 0, 0, 0, 0, 0, 0, 0, 0, 0, 0, 0, 0, 0, 0, 0, 0, 0, 0, 0, 0, 0, 0, 0, 0, 0, 0, 0, 0, 0, 0, 0, 0, 0, 0, 0, 0, 0, 0, 0, 0]\n"
     ]
    }
   ],
   "source": [
    "# Create a segment input for train and test. We are using only one sentence so all zeros. This shape will also (None, 55)\n",
    "\n",
    "X_train_segment = [[0]*max_seq_length for i in X_train_tokens]\n",
    "X_test_segment = [[0]*max_seq_length for i in X_test_tokens]\n",
    "\n",
    "print('Sample positional encodings:', X_train_segment[0])\n"
   ]
  },
  {
   "cell_type": "code",
   "execution_count": 45,
   "metadata": {
    "colab": {
     "base_uri": "https://localhost:8080/",
     "height": 53
    },
    "colab_type": "code",
    "id": "HXijO_1FQ9ny",
    "outputId": "b8544b9a-3885-4b4c-e5b9-2d77163d8be8"
   },
   "outputs": [
    {
     "name": "stdout",
     "output_type": "stream",
     "text": [
      "(80000, 55) : Shape of X_train_segments\n",
      "(20000, 55) : Shape of X_test_segments\n"
     ]
    }
   ],
   "source": [
    "X_train_segments = np.array(X_train_segment)\n",
    "X_test_segments = np.array(X_test_segment)\n",
    "\n",
    "print(X_train_segments.shape, ': Shape of X_train_segments')\n",
    "print(X_test_segments.shape, ': Shape of X_test_segments')\n"
   ]
  },
  {
   "cell_type": "code",
   "execution_count": 0,
   "metadata": {
    "colab": {},
    "colab_type": "code",
    "id": "dxhggBxwqVBj"
   },
   "outputs": [],
   "source": [
    "import pickle\n",
    "\n",
    "#save all your results to disk so that, no need to run all again. \n",
    "pickle.dump((X_train, X_train_tokens, X_train_mask, X_train_segment, y_train),open('train_data.pkl','wb'))\n",
    "pickle.dump((X_test, X_test_tokens, X_test_mask, X_test_segment, y_test),open('test_data.pkl','wb'))\n",
    "\n",
    "#you can load from disk\n",
    "# X_train, X_train_tokens, X_train_mask, X_train_segment, y_train = pickle.load(open(\"train_data.pkl\", 'rb')) \n",
    "#  X_test, X_test_tokens, X_test_mask, X_test_segment, y_test = pickle.load(open(\"test_data.pkl\", 'rb')) "
   ]
  },
  {
   "cell_type": "markdown",
   "metadata": {
    "colab_type": "text",
    "id": "sjPv8VkJqVBr"
   },
   "source": [
    "<font size=4>Grader function 4 </font>"
   ]
  },
  {
   "cell_type": "code",
   "execution_count": 47,
   "metadata": {
    "colab": {
     "base_uri": "https://localhost:8080/",
     "height": 124
    },
    "colab_type": "code",
    "id": "qekHJgmdqVBs",
    "outputId": "993dd3c3-05a1-4115-8b4f-ed5814a35708"
   },
   "outputs": [
    {
     "name": "stdout",
     "output_type": "stream",
     "text": [
      "True\n",
      "True\n",
      "True\n",
      "True\n",
      "True\n"
     ]
    },
    {
     "data": {
      "text/plain": [
       "True"
      ]
     },
     "execution_count": 47,
     "metadata": {
      "tags": []
     },
     "output_type": "execute_result"
    }
   ],
   "source": [
    "def grader_alltokens_train():\n",
    "    out = False\n",
    "    \n",
    "    if type(X_train_tokens) == np.ndarray:\n",
    "        \n",
    "        temp_shapes = (X_train_tokens.shape[1]==max_seq_length) and (X_train_masks.shape[1]==max_seq_length) and \\\n",
    "        (X_train_segments.shape[1]==max_seq_length)\n",
    "        print(temp_shapes)\n",
    "        \n",
    "        segment_temp = not np.any(X_train_segments)\n",
    "        print(segment_temp)\n",
    "        \n",
    "        mask_temp = np.sum(X_train_masks==0) == np.sum(X_train_tokens==0)\n",
    "        print(mask_temp)\n",
    "        \n",
    "        no_cls = np.sum(X_train_tokens==tokenizer.vocab['[CLS]'])==X_train_tokens.shape[0]\n",
    "        print(no_cls)\n",
    "        \n",
    "        no_sep = np.sum(X_train_tokens==tokenizer.vocab['[SEP]'])==X_train_tokens.shape[0]\n",
    "        print(no_sep)\n",
    "        \n",
    "        out = temp_shapes and segment_temp and mask_temp and no_cls and no_sep\n",
    "      \n",
    "    else:\n",
    "        print('Type of all above token arrays should be list not numpy array')\n",
    "        out = False\n",
    "    assert(out==True)\n",
    "    return out\n",
    "\n",
    "grader_alltokens_train()"
   ]
  },
  {
   "cell_type": "markdown",
   "metadata": {
    "colab_type": "text",
    "id": "KnvC6X_wqVBu"
   },
   "source": [
    "<font size=4>Grader function 5 </font>"
   ]
  },
  {
   "cell_type": "code",
   "execution_count": 48,
   "metadata": {
    "colab": {
     "base_uri": "https://localhost:8080/",
     "height": 35
    },
    "colab_type": "code",
    "id": "Av4SRMPSqVBv",
    "outputId": "c6ea0adb-b0cd-43db-907e-f573baf09eaf"
   },
   "outputs": [
    {
     "data": {
      "text/plain": [
       "True"
      ]
     },
     "execution_count": 48,
     "metadata": {
      "tags": []
     },
     "output_type": "execute_result"
    }
   ],
   "source": [
    "def grader_alltokens_test():\n",
    "    out = False\n",
    "    if type(X_test_tokens) == np.ndarray:\n",
    "        \n",
    "        temp_shapes = (X_test_tokens.shape[1]==max_seq_length) and (X_test_masks.shape[1]==max_seq_length) and \\\n",
    "        (X_test_segments.shape[1]==max_seq_length)\n",
    "        \n",
    "        segment_temp = not np.any(X_test_segments)\n",
    "        \n",
    "        mask_temp = np.sum(X_test_masks==0) == np.sum(X_test_tokens==0)\n",
    "        \n",
    "        no_cls = np.sum(X_test_tokens==tokenizer.vocab['[CLS]'])==X_test_tokens.shape[0]\n",
    "        \n",
    "        no_sep = np.sum(X_test_tokens==tokenizer.vocab['[SEP]'])==X_test_tokens.shape[0]\n",
    "        \n",
    "        out = temp_shapes and segment_temp and mask_temp and no_cls and no_sep\n",
    "      \n",
    "    else:\n",
    "        print('Type of all above token arrays should be list not numpy array')\n",
    "        out = False\n",
    "    assert(out==True)\n",
    "    return out\n",
    "grader_alltokens_test()"
   ]
  },
  {
   "cell_type": "markdown",
   "metadata": {
    "colab_type": "text",
    "id": "SEj-Eua5qVBx"
   },
   "source": [
    "<pre><font size=6>Part-4: Getting Embeddings from BERT Model</font>\n",
    "We already created the BERT model in the part-2 and input data in the part-3. We will utlize those two and will get the embeddings for each sentence in the Train and Validation data.</pre>"
   ]
  },
  {
   "cell_type": "code",
   "execution_count": 49,
   "metadata": {
    "colab": {
     "base_uri": "https://localhost:8080/",
     "height": 71
    },
    "colab_type": "code",
    "id": "QwOVgQFDqVBy",
    "outputId": "4fb79ea6-2639-4c8a-9db3-8da44441f3cc"
   },
   "outputs": [
    {
     "data": {
      "text/plain": [
       "[<tf.Tensor 'input_word_ids:0' shape=(None, 55) dtype=int32>,\n",
       " <tf.Tensor 'input_mask:0' shape=(None, 55) dtype=int32>,\n",
       " <tf.Tensor 'segment_ids:0' shape=(None, 55) dtype=int32>]"
      ]
     },
     "execution_count": 49,
     "metadata": {
      "tags": []
     },
     "output_type": "execute_result"
    }
   ],
   "source": [
    "bert_model.input"
   ]
  },
  {
   "cell_type": "code",
   "execution_count": 50,
   "metadata": {
    "colab": {
     "base_uri": "https://localhost:8080/",
     "height": 35
    },
    "colab_type": "code",
    "id": "ZcpkQq1OqVB0",
    "outputId": "0c98cdaa-6b59-4991-91f3-24b76dac5455"
   },
   "outputs": [
    {
     "data": {
      "text/plain": [
       "<tf.Tensor 'keras_layer/Identity:0' shape=(None, 768) dtype=float32>"
      ]
     },
     "execution_count": 50,
     "metadata": {
      "tags": []
     },
     "output_type": "execute_result"
    }
   ],
   "source": [
    "bert_model.output"
   ]
  },
  {
   "cell_type": "code",
   "execution_count": 0,
   "metadata": {
    "colab": {},
    "colab_type": "code",
    "id": "YXQnWxYTqVB3"
   },
   "outputs": [],
   "source": [
    "# get the train output, BERT model will give one output so save in\n",
    "X_train_pooled_output = bert_model.predict(x=[X_train_tokens, X_train_masks, X_train_segments])\n",
    "\n",
    "# get the test output, BERT model will give one output so save in\n",
    "X_test_pooled_output = bert_model.predict(x= [X_test_tokens, X_test_masks, X_test_segments])"
   ]
  },
  {
   "cell_type": "code",
   "execution_count": 0,
   "metadata": {
    "colab": {},
    "colab_type": "code",
    "id": "DL6JVojfqVB8"
   },
   "outputs": [],
   "source": [
    "#save all your results to disk so that, no need to run all again. \n",
    "pickle.dump((X_train_pooled_output, X_test_pooled_output),open('final_output.pkl','wb'))\n",
    "\n",
    "# X_train_pooled_output, X_test_pooled_output= pickle.load(open('final_output.pkl', 'rb'))"
   ]
  },
  {
   "cell_type": "markdown",
   "metadata": {
    "colab_type": "text",
    "id": "ulEXFE7aqVCA"
   },
   "source": [
    "<font size=4>Grader function 6 </font>"
   ]
  },
  {
   "cell_type": "code",
   "execution_count": 53,
   "metadata": {
    "colab": {
     "base_uri": "https://localhost:8080/",
     "height": 35
    },
    "colab_type": "code",
    "id": "oHCsW0IvqVCB",
    "outputId": "5d2f79bb-70a6-4f60-b2b6-60241b25cf8f"
   },
   "outputs": [
    {
     "data": {
      "text/plain": [
       "True"
      ]
     },
     "execution_count": 53,
     "metadata": {
      "tags": []
     },
     "output_type": "execute_result"
    }
   ],
   "source": [
    "#now we have X_train_pooled_output, y_train\n",
    "#X_test_pooled_ouput, y_test\n",
    "\n",
    "#please use this grader to evaluate\n",
    "def grader_output():\n",
    "    assert(X_train_pooled_output.shape[1]==768)\n",
    "    assert(len(y_train)==len(X_train_pooled_output))\n",
    "    assert(X_test_pooled_output.shape[1]==768)\n",
    "    assert(len(y_test)==len(X_test_pooled_output))\n",
    "    assert(len(y_train.shape)==1)\n",
    "    assert(len(X_train_pooled_output.shape)==2)\n",
    "    assert(len(y_test.shape)==1)\n",
    "    assert(len(X_test_pooled_output.shape)==2)\n",
    "    return True\n",
    "grader_output()"
   ]
  },
  {
   "cell_type": "markdown",
   "metadata": {
    "colab_type": "text",
    "id": "oYwS1QbAqVCD"
   },
   "source": [
    "<pre><font size=6>Part-5: Training a NN with 768 features</font>\n",
    "\n",
    "Create a NN and train the NN. \n",
    "1. You have to use AUC as metric. \n",
    "2. You can use any architecture you want. \n",
    "3. You have to use tensorboard to log all your metrics and Losses. You have to send those logs. \n",
    "4. Print the loss and metric at every epoch. \n",
    "5. You have to submit without overfitting and underfitting. \n",
    "</pre>"
   ]
  },
  {
   "cell_type": "code",
   "execution_count": 54,
   "metadata": {
    "colab": {
     "base_uri": "https://localhost:8080/",
     "height": 35
    },
    "colab_type": "code",
    "id": "zgAvvuFAxNQ-",
    "outputId": "16668c3e-19ec-45ab-f75e-f5fec123cf34"
   },
   "outputs": [
    {
     "data": {
      "text/plain": [
       "(80000, 768)"
      ]
     },
     "execution_count": 54,
     "metadata": {
      "tags": []
     },
     "output_type": "execute_result"
    }
   ],
   "source": [
    "X_train_pooled_output.shape"
   ]
  },
  {
   "cell_type": "code",
   "execution_count": 0,
   "metadata": {
    "colab": {},
    "colab_type": "code",
    "id": "od8PQlYRqVCE"
   },
   "outputs": [],
   "source": [
    "# imports\n",
    "from tensorflow.keras.layers import Input, Dense, Activation, Dropout\n",
    "from tensorflow.keras.models import Model"
   ]
  },
  {
   "cell_type": "code",
   "execution_count": 0,
   "metadata": {
    "colab": {},
    "colab_type": "code",
    "id": "6dZ6IHinvxyc"
   },
   "outputs": [],
   "source": [
    "import sklearn.metrics as skm\n",
    "\n",
    "def auc1(y_true, y_pred):\n",
    "  if len(np.unique(y_true[:,1])) == 1:\n",
    "    return 0.5\n",
    "  else:\n",
    "    return skm.roc_auc_score(y_true, y_pred)\n",
    "\n",
    "def aucroc(y_true, y_pred):\n",
    "  return tf.py_function(auc1, (y_true, y_pred), tf.double)"
   ]
  },
  {
   "cell_type": "code",
   "execution_count": 57,
   "metadata": {
    "colab": {
     "base_uri": "https://localhost:8080/",
     "height": 231
    },
    "colab_type": "code",
    "id": "DSnmX3WnqVCG",
    "outputId": "877d0f94-2aed-496a-f92b-db4fe268cc19"
   },
   "outputs": [
    {
     "name": "stdout",
     "output_type": "stream",
     "text": [
      "Model: \"model_1\"\n",
      "_________________________________________________________________\n",
      "Layer (type)                 Output Shape              Param #   \n",
      "=================================================================\n",
      "bert (InputLayer)            [(None, 768)]             0         \n",
      "_________________________________________________________________\n",
      "dense (Dense)                (None, 2)                 1538      \n",
      "=================================================================\n",
      "Total params: 1,538\n",
      "Trainable params: 1,538\n",
      "Non-trainable params: 0\n",
      "_________________________________________________________________\n"
     ]
    }
   ],
   "source": [
    "# create an NN and \n",
    "Input_bert = tf.keras.Input(shape= (768,), name = 'bert')\n",
    "bert_nn= Dense(units= 2, activation= 'sigmoid')(Input_bert)\n",
    "\n",
    "model = Model(inputs = Input_bert, outputs = bert_nn)\n",
    "model.compile(loss= 'binary_crossentropy', optimizer= 'adam',metrics= ['accuracy', aucroc])\n",
    "model.summary()"
   ]
  },
  {
   "cell_type": "code",
   "execution_count": 58,
   "metadata": {
    "colab": {
     "base_uri": "https://localhost:8080/",
     "height": 71
    },
    "colab_type": "code",
    "id": "VRTp-f6B4C0E",
    "outputId": "68e8ca91-c8fe-4af1-860b-fe89092e3394"
   },
   "outputs": [
    {
     "name": "stdout",
     "output_type": "stream",
     "text": [
      "Y Train Before OHE:  1\n",
      "\n",
      "Y Train After OHE:  [0. 1.]\n"
     ]
    }
   ],
   "source": [
    "print('Y Train Before OHE: ',y_train[0])\n",
    "print()\n",
    "# We do OHE --> to vector, 2 dimentional\n",
    "Y_train = tf.keras.utils.to_categorical(y = y_train, num_classes = 2)\n",
    "Y_test = tf.keras.utils.to_categorical(y = y_test, num_classes = 2)\n",
    "# A sample data point after OHE\n",
    "print('Y Train After OHE: ', Y_train[0])\n"
   ]
  },
  {
   "cell_type": "code",
   "execution_count": 0,
   "metadata": {
    "colab": {},
    "colab_type": "code",
    "id": "yS4QFE6nIf4G"
   },
   "outputs": [],
   "source": [
    "from tensorflow.keras.callbacks import ModelCheckpoint\n",
    "\n",
    "callbacks= [ModelCheckpoint(filepath= '/content/bert.h5', monitor= 'val_loss', verbose= 1, save_best_only= True,\n",
    "                            save_weights_only= True )]"
   ]
  },
  {
   "cell_type": "code",
   "execution_count": 61,
   "metadata": {
    "colab": {
     "base_uri": "https://localhost:8080/",
     "height": 1000
    },
    "colab_type": "code",
    "id": "wKsW_td3wI02",
    "outputId": "8708ecc1-f3c4-47e3-f17e-ba846e1eadee"
   },
   "outputs": [
    {
     "name": "stdout",
     "output_type": "stream",
     "text": [
      "Epoch 1/30\n",
      "614/625 [============================>.] - ETA: 0s - loss: 0.3251 - accuracy: 0.8723 - aucroc: 0.8120\n",
      "Epoch 00001: val_loss improved from inf to 0.29563, saving model to /content/bert.h5\n",
      "625/625 [==============================] - 3s 5ms/step - loss: 0.3242 - accuracy: 0.8725 - aucroc: 0.8133 - val_loss: 0.2956 - val_accuracy: 0.8731 - val_aucroc: 0.8634\n",
      "Epoch 2/30\n",
      "622/625 [============================>.] - ETA: 0s - loss: 0.2732 - accuracy: 0.8835 - aucroc: 0.8893\n",
      "Epoch 00002: val_loss improved from 0.29563 to 0.26621, saving model to /content/bert.h5\n",
      "625/625 [==============================] - 3s 5ms/step - loss: 0.2733 - accuracy: 0.8834 - aucroc: 0.8894 - val_loss: 0.2662 - val_accuracy: 0.8850 - val_aucroc: 0.8933\n",
      "Epoch 3/30\n",
      "620/625 [============================>.] - ETA: 0s - loss: 0.2517 - accuracy: 0.8925 - aucroc: 0.9077\n",
      "Epoch 00003: val_loss improved from 0.26621 to 0.25083, saving model to /content/bert.h5\n",
      "625/625 [==============================] - 3s 5ms/step - loss: 0.2515 - accuracy: 0.8925 - aucroc: 0.9078 - val_loss: 0.2508 - val_accuracy: 0.8901 - val_aucroc: 0.9062\n",
      "Epoch 4/30\n",
      "614/625 [============================>.] - ETA: 0s - loss: 0.2384 - accuracy: 0.8993 - aucroc: 0.9168\n",
      "Epoch 00004: val_loss improved from 0.25083 to 0.24066, saving model to /content/bert.h5\n",
      "625/625 [==============================] - 3s 5ms/step - loss: 0.2384 - accuracy: 0.8994 - aucroc: 0.9166 - val_loss: 0.2407 - val_accuracy: 0.8947 - val_aucroc: 0.9148\n",
      "Epoch 5/30\n",
      "617/625 [============================>.] - ETA: 0s - loss: 0.2298 - accuracy: 0.9037 - aucroc: 0.9224\n",
      "Epoch 00005: val_loss improved from 0.24066 to 0.23460, saving model to /content/bert.h5\n",
      "625/625 [==============================] - 3s 5ms/step - loss: 0.2297 - accuracy: 0.9039 - aucroc: 0.9223 - val_loss: 0.2346 - val_accuracy: 0.8981 - val_aucroc: 0.9195\n",
      "Epoch 6/30\n",
      "615/625 [============================>.] - ETA: 0s - loss: 0.2236 - accuracy: 0.9067 - aucroc: 0.9260\n",
      "Epoch 00006: val_loss improved from 0.23460 to 0.22706, saving model to /content/bert.h5\n",
      "625/625 [==============================] - 3s 5ms/step - loss: 0.2235 - accuracy: 0.9067 - aucroc: 0.9262 - val_loss: 0.2271 - val_accuracy: 0.9081 - val_aucroc: 0.9235\n",
      "Epoch 7/30\n",
      "618/625 [============================>.] - ETA: 0s - loss: 0.2191 - accuracy: 0.9092 - aucroc: 0.9291\n",
      "Epoch 00007: val_loss improved from 0.22706 to 0.22264, saving model to /content/bert.h5\n",
      "625/625 [==============================] - 3s 5ms/step - loss: 0.2193 - accuracy: 0.9090 - aucroc: 0.9289 - val_loss: 0.2226 - val_accuracy: 0.9092 - val_aucroc: 0.9253\n",
      "Epoch 8/30\n",
      "619/625 [============================>.] - ETA: 0s - loss: 0.2152 - accuracy: 0.9113 - aucroc: 0.9309\n",
      "Epoch 00008: val_loss improved from 0.22264 to 0.21845, saving model to /content/bert.h5\n",
      "625/625 [==============================] - 3s 5ms/step - loss: 0.2154 - accuracy: 0.9111 - aucroc: 0.9310 - val_loss: 0.2184 - val_accuracy: 0.9107 - val_aucroc: 0.9280\n",
      "Epoch 9/30\n",
      "624/625 [============================>.] - ETA: 0s - loss: 0.2132 - accuracy: 0.9125 - aucroc: 0.9322\n",
      "Epoch 00009: val_loss improved from 0.21845 to 0.21692, saving model to /content/bert.h5\n",
      "625/625 [==============================] - 3s 5ms/step - loss: 0.2132 - accuracy: 0.9125 - aucroc: 0.9322 - val_loss: 0.2169 - val_accuracy: 0.9110 - val_aucroc: 0.9297\n",
      "Epoch 10/30\n",
      "620/625 [============================>.] - ETA: 0s - loss: 0.2103 - accuracy: 0.9132 - aucroc: 0.9339\n",
      "Epoch 00010: val_loss improved from 0.21692 to 0.21363, saving model to /content/bert.h5\n",
      "625/625 [==============================] - 3s 5ms/step - loss: 0.2102 - accuracy: 0.9133 - aucroc: 0.9339 - val_loss: 0.2136 - val_accuracy: 0.9127 - val_aucroc: 0.9303\n",
      "Epoch 11/30\n",
      "616/625 [============================>.] - ETA: 0s - loss: 0.2086 - accuracy: 0.9142 - aucroc: 0.9342\n",
      "Epoch 00011: val_loss improved from 0.21363 to 0.21169, saving model to /content/bert.h5\n",
      "625/625 [==============================] - 3s 5ms/step - loss: 0.2085 - accuracy: 0.9143 - aucroc: 0.9342 - val_loss: 0.2117 - val_accuracy: 0.9120 - val_aucroc: 0.9319\n",
      "Epoch 12/30\n",
      "619/625 [============================>.] - ETA: 0s - loss: 0.2065 - accuracy: 0.9144 - aucroc: 0.9351\n",
      "Epoch 00012: val_loss improved from 0.21169 to 0.20994, saving model to /content/bert.h5\n",
      "625/625 [==============================] - 3s 5ms/step - loss: 0.2064 - accuracy: 0.9145 - aucroc: 0.9351 - val_loss: 0.2099 - val_accuracy: 0.9139 - val_aucroc: 0.9330\n",
      "Epoch 13/30\n",
      "620/625 [============================>.] - ETA: 0s - loss: 0.2053 - accuracy: 0.9154 - aucroc: 0.9364\n",
      "Epoch 00013: val_loss improved from 0.20994 to 0.20892, saving model to /content/bert.h5\n",
      "625/625 [==============================] - 3s 5ms/step - loss: 0.2051 - accuracy: 0.9154 - aucroc: 0.9366 - val_loss: 0.2089 - val_accuracy: 0.9125 - val_aucroc: 0.9341\n",
      "Epoch 14/30\n",
      "619/625 [============================>.] - ETA: 0s - loss: 0.2040 - accuracy: 0.9162 - aucroc: 0.9373\n",
      "Epoch 00014: val_loss improved from 0.20892 to 0.20791, saving model to /content/bert.h5\n",
      "625/625 [==============================] - 3s 5ms/step - loss: 0.2041 - accuracy: 0.9161 - aucroc: 0.9372 - val_loss: 0.2079 - val_accuracy: 0.9140 - val_aucroc: 0.9348\n",
      "Epoch 15/30\n",
      "617/625 [============================>.] - ETA: 0s - loss: 0.2022 - accuracy: 0.9163 - aucroc: 0.9374\n",
      "Epoch 00015: val_loss improved from 0.20791 to 0.20593, saving model to /content/bert.h5\n",
      "625/625 [==============================] - 3s 5ms/step - loss: 0.2024 - accuracy: 0.9162 - aucroc: 0.9373 - val_loss: 0.2059 - val_accuracy: 0.9154 - val_aucroc: 0.9350\n",
      "Epoch 16/30\n",
      "618/625 [============================>.] - ETA: 0s - loss: 0.2019 - accuracy: 0.9172 - aucroc: 0.9386\n",
      "Epoch 00016: val_loss improved from 0.20593 to 0.20514, saving model to /content/bert.h5\n",
      "625/625 [==============================] - 3s 5ms/step - loss: 0.2020 - accuracy: 0.9171 - aucroc: 0.9386 - val_loss: 0.2051 - val_accuracy: 0.9144 - val_aucroc: 0.9358\n",
      "Epoch 17/30\n",
      "617/625 [============================>.] - ETA: 0s - loss: 0.2006 - accuracy: 0.9172 - aucroc: 0.9387\n",
      "Epoch 00017: val_loss improved from 0.20514 to 0.20418, saving model to /content/bert.h5\n",
      "625/625 [==============================] - 3s 5ms/step - loss: 0.2006 - accuracy: 0.9172 - aucroc: 0.9386 - val_loss: 0.2042 - val_accuracy: 0.9145 - val_aucroc: 0.9364\n",
      "Epoch 18/30\n",
      "615/625 [============================>.] - ETA: 0s - loss: 0.1995 - accuracy: 0.9182 - aucroc: 0.9394\n",
      "Epoch 00018: val_loss improved from 0.20418 to 0.20337, saving model to /content/bert.h5\n",
      "625/625 [==============================] - 3s 5ms/step - loss: 0.1996 - accuracy: 0.9182 - aucroc: 0.9394 - val_loss: 0.2034 - val_accuracy: 0.9144 - val_aucroc: 0.9370\n",
      "Epoch 19/30\n",
      "621/625 [============================>.] - ETA: 0s - loss: 0.1995 - accuracy: 0.9180 - aucroc: 0.9395\n",
      "Epoch 00019: val_loss improved from 0.20337 to 0.20210, saving model to /content/bert.h5\n",
      "625/625 [==============================] - 3s 5ms/step - loss: 0.1994 - accuracy: 0.9181 - aucroc: 0.9396 - val_loss: 0.2021 - val_accuracy: 0.9164 - val_aucroc: 0.9373\n",
      "Epoch 20/30\n",
      "623/625 [============================>.] - ETA: 0s - loss: 0.1988 - accuracy: 0.9185 - aucroc: 0.9404\n",
      "Epoch 00020: val_loss improved from 0.20210 to 0.20138, saving model to /content/bert.h5\n",
      "625/625 [==============================] - 3s 5ms/step - loss: 0.1987 - accuracy: 0.9185 - aucroc: 0.9404 - val_loss: 0.2014 - val_accuracy: 0.9172 - val_aucroc: 0.9377\n",
      "Epoch 21/30\n",
      "623/625 [============================>.] - ETA: 0s - loss: 0.1977 - accuracy: 0.9192 - aucroc: 0.9408\n",
      "Epoch 00021: val_loss improved from 0.20138 to 0.20109, saving model to /content/bert.h5\n",
      "625/625 [==============================] - 3s 5ms/step - loss: 0.1977 - accuracy: 0.9192 - aucroc: 0.9409 - val_loss: 0.2011 - val_accuracy: 0.9161 - val_aucroc: 0.9378\n",
      "Epoch 22/30\n",
      "616/625 [============================>.] - ETA: 0s - loss: 0.1970 - accuracy: 0.9197 - aucroc: 0.9407\n",
      "Epoch 00022: val_loss did not improve from 0.20109\n",
      "625/625 [==============================] - 3s 5ms/step - loss: 0.1970 - accuracy: 0.9197 - aucroc: 0.9407 - val_loss: 0.2013 - val_accuracy: 0.9165 - val_aucroc: 0.9382\n",
      "Epoch 23/30\n",
      "619/625 [============================>.] - ETA: 0s - loss: 0.1964 - accuracy: 0.9189 - aucroc: 0.9415\n",
      "Epoch 00023: val_loss improved from 0.20109 to 0.20033, saving model to /content/bert.h5\n",
      "625/625 [==============================] - 3s 5ms/step - loss: 0.1966 - accuracy: 0.9188 - aucroc: 0.9414 - val_loss: 0.2003 - val_accuracy: 0.9192 - val_aucroc: 0.9386\n",
      "Epoch 24/30\n",
      "622/625 [============================>.] - ETA: 0s - loss: 0.1955 - accuracy: 0.9202 - aucroc: 0.9412\n",
      "Epoch 00024: val_loss improved from 0.20033 to 0.19956, saving model to /content/bert.h5\n",
      "625/625 [==============================] - 3s 5ms/step - loss: 0.1955 - accuracy: 0.9201 - aucroc: 0.9412 - val_loss: 0.1996 - val_accuracy: 0.9171 - val_aucroc: 0.9389\n",
      "Epoch 25/30\n",
      "623/625 [============================>.] - ETA: 0s - loss: 0.1954 - accuracy: 0.9201 - aucroc: 0.9420\n",
      "Epoch 00025: val_loss did not improve from 0.19956\n",
      "625/625 [==============================] - 3s 5ms/step - loss: 0.1954 - accuracy: 0.9201 - aucroc: 0.9419 - val_loss: 0.1997 - val_accuracy: 0.9175 - val_aucroc: 0.9392\n",
      "Epoch 26/30\n",
      "617/625 [============================>.] - ETA: 0s - loss: 0.1952 - accuracy: 0.9204 - aucroc: 0.9420\n",
      "Epoch 00026: val_loss did not improve from 0.19956\n",
      "625/625 [==============================] - 3s 5ms/step - loss: 0.1949 - accuracy: 0.9205 - aucroc: 0.9421 - val_loss: 0.2050 - val_accuracy: 0.9153 - val_aucroc: 0.9398\n",
      "Epoch 27/30\n",
      "618/625 [============================>.] - ETA: 0s - loss: 0.1942 - accuracy: 0.9213 - aucroc: 0.9419\n",
      "Epoch 00027: val_loss did not improve from 0.19956\n",
      "625/625 [==============================] - 3s 5ms/step - loss: 0.1943 - accuracy: 0.9213 - aucroc: 0.9419 - val_loss: 0.2001 - val_accuracy: 0.9172 - val_aucroc: 0.9400\n",
      "Epoch 28/30\n",
      "619/625 [============================>.] - ETA: 0s - loss: 0.1938 - accuracy: 0.9211 - aucroc: 0.9428\n",
      "Epoch 00028: val_loss improved from 0.19956 to 0.19926, saving model to /content/bert.h5\n",
      "625/625 [==============================] - 3s 5ms/step - loss: 0.1939 - accuracy: 0.9209 - aucroc: 0.9429 - val_loss: 0.1993 - val_accuracy: 0.9203 - val_aucroc: 0.9404\n",
      "Epoch 29/30\n",
      "617/625 [============================>.] - ETA: 0s - loss: 0.1927 - accuracy: 0.9214 - aucroc: 0.9426\n",
      "Epoch 00029: val_loss improved from 0.19926 to 0.19717, saving model to /content/bert.h5\n",
      "625/625 [==============================] - 4s 6ms/step - loss: 0.1931 - accuracy: 0.9212 - aucroc: 0.9425 - val_loss: 0.1972 - val_accuracy: 0.9227 - val_aucroc: 0.9404\n",
      "Epoch 30/30\n",
      "622/625 [============================>.] - ETA: 0s - loss: 0.1929 - accuracy: 0.9217 - aucroc: 0.9432\n",
      "Epoch 00030: val_loss improved from 0.19717 to 0.19638, saving model to /content/bert.h5\n",
      "625/625 [==============================] - 3s 5ms/step - loss: 0.1929 - accuracy: 0.9217 - aucroc: 0.9432 - val_loss: 0.1964 - val_accuracy: 0.9203 - val_aucroc: 0.9409\n"
     ]
    }
   ],
   "source": [
    "# the other 10k datapoints are used for predict \n",
    "history = model.fit(x = X_train_pooled_output, y= Y_train, validation_data= (X_test_pooled_output[:10000], Y_test[:10000]), \n",
    "                    batch_size= 128, epochs= 30, callbacks= callbacks)"
   ]
  },
  {
   "cell_type": "code",
   "execution_count": 62,
   "metadata": {
    "colab": {
     "base_uri": "https://localhost:8080/",
     "height": 977
    },
    "colab_type": "code",
    "id": "FsaISrLn9aWC",
    "outputId": "62175ff2-8171-49ba-8d00-e29dd7d2f764"
   },
   "outputs": [
    {
     "data": {
      "image/png": "[encoded data removed]",
      "text/plain": [
       "<Figure size 864x576 with 1 Axes>"
      ]
     },
     "metadata": {
      "needs_background": "light",
      "tags": []
     },
     "output_type": "display_data"
    },
    {
     "data": {
      "image/png": "[encoded data removed]",
      "text/plain": [
       "<Figure size 864x576 with 1 Axes>"
      ]
     },
     "metadata": {
      "needs_background": "light",
      "tags": []
     },
     "output_type": "display_data"
    }
   ],
   "source": [
    "plt.figure(figsize = (12, 8))\n",
    "plt.plot(history.history['aucroc'], 'r')\n",
    "plt.plot(history.history['val_aucroc'], 'b')\n",
    "plt.xlabel('epoch')\n",
    "plt.ylabel('Binary Crossentropy Loss')\n",
    "plt.legend({'Train ROCAUC': 'r', 'Test ROCAUC':'b'})\n",
    "plt.grid()\n",
    "plt.show()\n",
    "\n",
    "plt.figure(figsize = (12, 8))\n",
    "plt.plot(history.history['loss'], 'r')\n",
    "plt.plot(history.history['val_loss'], 'b')\n",
    "plt.xlabel('epoch')\n",
    "plt.ylabel('Binary Crossentropy Loss')\n",
    "plt.legend({'Train Loss': 'r', 'Test Loss':'b'})\n",
    "plt.grid()\n",
    "plt.show()"
   ]
  },
  {
   "cell_type": "markdown",
   "metadata": {
    "colab_type": "text",
    "id": "kcILeYZI9pxm"
   },
   "source": [
    "<Pre><font size=6>Part-6: Creating a Data pipeline for BERT Model</font> \n",
    "\n",
    "1. Download data from <a href=\"https://drive.google.com/file/d/1QwjqTsqTX2vdy7fTmeXjxP3dq8IAVLpo/view?usp=sharing\">here</a>\n",
    "2. Read the csv file\n",
    "3. Remove all the html tags\n",
    "4. Now do tokenization [Part 3 as mentioned above]\n",
    "    * Create tokens,mask array and segment array\n",
    "5. Get Embeddings from BERT Model [Part 4 as mentioned above] , let it be X_test\n",
    "   * Print the shape of output(X_test.shape).You should get (352,768)\n",
    "6. Predit the output of X_test with the Neural network model which we trained earlier.\n",
    "7. Print the occurences of class labels in the predicted output\n",
    "\n",
    "</pre>"
   ]
  },
  {
   "cell_type": "code",
   "execution_count": 74,
   "metadata": {
    "colab": {
     "base_uri": "https://localhost:8080/",
     "height": 106
    },
    "colab_type": "code",
    "id": "UfFl8esXDtLY",
    "outputId": "52bf4236-3a11-4fe1-a09c-a1f008473011"
   },
   "outputs": [
    {
     "name": "stdout",
     "output_type": "stream",
     "text": [
      "                                                Text\n",
      "0  Just opened Greenies Joint Care (individually ...\n",
      "1  This product rocks :) My mom was very happy w/...\n",
      "2  The product was fine, but the cost of shipping...\n",
      "(352, 1)\n"
     ]
    }
   ],
   "source": [
    "a = pd.read_csv('/content/test.csv')\n",
    "print(a.head(3))\n",
    "print(a.shape)"
   ]
  },
  {
   "cell_type": "code",
   "execution_count": 0,
   "metadata": {
    "colab": {},
    "colab_type": "code",
    "id": "iiBeOnna9yDH"
   },
   "outputs": [],
   "source": [
    "from collections import Counter\n",
    "\n",
    "def pipeline(data):\n",
    "  b = pd.read_csv(data)\n",
    "  b = [clean_sentence(i) for i in b['Text']]\n",
    "  b = [tokenizer.tokenize(i) for i in b]\n",
    "  b= [i[0:(max_seq_length - 2)] for i in b]\n",
    "  tkn = [tokens(i) for i in b]\n",
    "  token = np.array([tokenizer.convert_tokens_to_ids(i) for i in tkn])\n",
    "  print('Tokens:', token.shape)\n",
    "  mask = np.array([masking(i) for i in tkn])\n",
    "  print('Masks:', mask.shape)\n",
    "  segment = np.array([[0]*max_seq_length for i in tkn])\n",
    "  print('Segments:', segment.shape)\n",
    "  pooled = bert_model.predict([token, mask,segment])\n",
    "  print('Pooled:', pooled.shape)\n",
    "  model.load_weights('/content/bert.h5')\n",
    "  pred = model.predict(pooled)\n",
    "  y = pred.argmax(axis= -1)\n",
    "  print('Y:',y)\n",
    "  print(Counter(y))"
   ]
  },
  {
   "cell_type": "code",
   "execution_count": 78,
   "metadata": {
    "colab": {
     "base_uri": "https://localhost:8080/",
     "height": 285
    },
    "colab_type": "code",
    "id": "QDaO34vuJmu6",
    "outputId": "242dd76a-240f-43e4-fd82-fd8b55a1651f"
   },
   "outputs": [
    {
     "name": "stdout",
     "output_type": "stream",
     "text": [
      "Tokens: (352, 55)\n",
      "Masks: (352, 55)\n",
      "Segments: (352, 55)\n",
      "Pooled: (352, 768)\n",
      "Y: [0 1 0 0 1 0 0 0 1 0 1 1 0 1 0 0 0 0 0 1 0 1 1 0 1 0 1 0 0 1 0 0 1 0 1 1 0\n",
      " 1 1 1 0 0 0 0 0 0 1 1 1 0 1 1 1 0 0 0 0 1 1 1 0 0 0 0 0 0 0 0 1 0 0 0 0 1\n",
      " 1 1 0 1 1 1 1 0 0 0 1 0 1 1 0 0 1 0 0 1 1 0 0 1 0 0 1 1 0 0 0 0 1 0 1 0 1\n",
      " 0 1 1 1 1 0 1 0 1 0 0 0 0 1 0 0 0 0 1 0 1 1 0 1 1 1 0 0 0 0 0 1 0 1 0 1 0\n",
      " 1 0 0 0 0 1 1 0 1 0 0 0 0 1 0 0 1 1 1 0 0 1 1 1 0 0 0 0 1 0 1 0 0 0 1 1 0\n",
      " 1 1 0 0 0 0 0 1 1 1 0 0 1 1 0 1 1 0 1 0 1 0 0 1 0 0 0 0 0 1 0 0 0 1 0 1 0\n",
      " 1 1 0 1 0 0 0 0 0 0 0 0 0 1 0 0 1 1 0 0 1 1 0 0 0 1 0 0 0 0 1 0 1 0 0 0 0\n",
      " 0 1 0 1 0 1 0 1 0 1 0 1 0 0 0 0 0 1 0 0 1 1 1 1 1 0 1 0 0 0 0 1 0 1 0 0 1\n",
      " 0 0 0 1 1 0 0 0 1 0 0 1 0 1 0 1 1 0 0 0 0 1 0 1 0 0 1 0 1 1 0 0 1 1 0 0 0\n",
      " 0 0 1 0 0 0 1 0 0 0 0 1 0 0 1 0 0 1 0]\n",
      "Counter({0: 213, 1: 139})\n"
     ]
    }
   ],
   "source": [
    "pipeline(data= '/content/test.csv')"
   ]
  }
 ],
 "metadata": {
  "accelerator": "GPU",
  "colab": {
   "collapsed_sections": [],
   "name": "Copy of BERT- Assignment.ipynb",
   "provenance": [],
   "toc_visible": true
  },
  "kernelspec": {
   "display_name": "Python 3",
   "language": "python",
   "name": "python3"
  },
  "language_info": {
   "codemirror_mode": {
    "name": "ipython",
    "version": 3
   },
   "file_extension": ".py",
   "mimetype": "text/x-python",
   "name": "python",
   "nbconvert_exporter": "python",
   "pygments_lexer": "ipython3",
   "version": "3.8.5"
  }
 },
 "nbformat": 4,
 "nbformat_minor": 1
}
